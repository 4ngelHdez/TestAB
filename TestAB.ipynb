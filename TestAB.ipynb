{
 "cells": [
  {
   "cell_type": "markdown",
   "id": "9e627eb5",
   "metadata": {},
   "source": [
    "## Test A/B"
   ]
  },
  {
   "cell_type": "markdown",
   "id": "a889cdfa",
   "metadata": {},
   "source": [
    "Para este proyecto nos han dado una tarea analítica de una tienda en linea interacional, de una prueba A/B que solamente fue lanzada ya que se abandono en el trayecto.\n",
    "Se cuentan con datos del 7 de diciembre del 2020 al 1 de enero del 2021.\n",
    "\n",
    "Para esta prueba se nos pide que:\n",
    "- Describamos los objetivos del estudio.\n",
    "- Exploremos los datos:\n",
    "    - ¿Es necesario convertir los tipos?\n",
    "    - ¿Hay valores ausentes o duplicados? Si es así, ¿cómo los caracterizaremos?\n",
    "- Llevar a cabo el análisis exploratorio de datos:\n",
    "    - Estudiar la conversión en las diferentes etapas del embudo.\n",
    "    - ¿El número de eventos por usuario está distribuido equitativamente entre las muestras?\n",
    "    - ¿Hay usuarios que están presentes en ambas muestras?\n",
    "    - ¿Cómo se distribuye el número de eventos entre los días?\n",
    "    - ¿Hay alguna peculiaridad en los datos que hay que tener en cuenta antes de iniciar la prueba A/B?\n",
    "- Evaluar los resultados de la prueba A/B:\n",
    "    - ¿Qué podemos decir sobre los resultados de la prueba A/B?\n",
    "    - Utilizar una prueba z para comprobar la diferencia estadística entre las proporciones.\n",
    "- Describir las conclusiones con respecto a la etapa EDA y los resultados de la prueba A/B."
   ]
  },
  {
   "cell_type": "markdown",
   "id": "87bde71e",
   "metadata": {},
   "source": [
    "### Describe los objetivos del estudio.\n",
    "\n",
    "Tendremos que verificar sí:\n",
    "- Los datos las muestras son equitativas o si están cargadas hacia un lado.\n",
    "- Si existen duplicados o valores nulos.\n",
    "- Si como realizaron las grupos fue lo correcto o si hay usuarios que están en ambos grupos. \n",
    "- Si los datos están distribuidos equitativamente."
   ]
  },
  {
   "cell_type": "code",
   "execution_count": 1,
   "id": "285181ea",
   "metadata": {},
   "outputs": [],
   "source": [
    "# Importar las librerias necesarias para la realización del proyecto.\n",
    "\n",
    "import pandas as pd\n",
    "import numpy as np\n",
    "import seaborn as sns\n",
    "import matplotlib.pyplot as plt\n",
    "import datetime as dt\n",
    "from scipy import stats as st\n",
    "from scipy.stats import shapiro\n",
    "from scipy.stats import levene\n",
    "import matplotlib.cm as cm\n",
    "import plotly.express as px\n",
    "from statsmodels.stats.proportion import proportions_ztest"
   ]
  },
  {
   "cell_type": "code",
   "execution_count": 2,
   "id": "3397493b",
   "metadata": {},
   "outputs": [],
   "source": [
    "# Cargar los archivos CSV\n",
    "\n",
    "promos = pd.read_csv('/Users/angelhdez/Documents/Tripleten/repositorios/TestAB/ab_project_marketing_events_us.csv')\n",
    "usuarios = pd.read_csv('/Users/angelhdez/Documents/Tripleten/repositorios/TestAB/final_ab_new_users_upd_us.csv')\n",
    "eventos = pd.read_csv('/Users/angelhdez/Documents/Tripleten/repositorios/TestAB/final_ab_events_upd_us.csv')\n",
    "grupos = pd.read_csv('/Users/angelhdez/Documents/Tripleten/repositorios/TestAB/final_ab_participants_upd_us.csv')"
   ]
  },
  {
   "cell_type": "code",
   "execution_count": 3,
   "id": "2bd487c1",
   "metadata": {},
   "outputs": [],
   "source": [
    "# Análisis exploratorio de los datos.\n",
    "\n",
    "def analisis_exploratorio(data):\n",
    "    \"\"\"\n",
    "    Esta función realiza un análisis exploratorio de los datos.\n",
    "    \"\"\"\n",
    "    # Primeras lineas de los datos\n",
    "    print(\"Primeras líneas de los datos:\")\n",
    "    print(data.head())\n",
    "    \n",
    "    # Descripción de los datos\n",
    "    print(\"Descripción de los datos:\")\n",
    "    print(data.describe())\n",
    "    \n",
    "    # Información de los datos\n",
    "    print(\"\\nInformación de los datos:\")\n",
    "    print(data.info())\n",
    "    \n",
    "    # Comprobación de valores nulos\n",
    "    print(\"\\nValores nulos en los datos:\")\n",
    "    print(data.isnull().sum())\n",
    "    \n",
    "    # Comprobación de valores duplicados\n",
    "    print(\"\\nValores duplicados en los datos:\")\n",
    "    print(data.duplicated().sum())"
   ]
  },
  {
   "cell_type": "code",
   "execution_count": 4,
   "id": "93598df3",
   "metadata": {},
   "outputs": [
    {
     "name": "stdout",
     "output_type": "stream",
     "text": [
      "Primeras líneas de los datos:\n",
      "                           name                   regions    start_dt  \\\n",
      "0      Christmas&New Year Promo             EU, N.America  2020-12-25   \n",
      "1  St. Valentine's Day Giveaway  EU, CIS, APAC, N.America  2020-02-14   \n",
      "2        St. Patric's Day Promo             EU, N.America  2020-03-17   \n",
      "3                  Easter Promo  EU, CIS, APAC, N.America  2020-04-12   \n",
      "4             4th of July Promo                 N.America  2020-07-04   \n",
      "\n",
      "    finish_dt  \n",
      "0  2021-01-03  \n",
      "1  2020-02-16  \n",
      "2  2020-03-19  \n",
      "3  2020-04-19  \n",
      "4  2020-07-11  \n",
      "Descripción de los datos:\n",
      "                            name regions    start_dt   finish_dt\n",
      "count                         14      14          14          14\n",
      "unique                        14       6          14          14\n",
      "top     Christmas&New Year Promo    APAC  2020-12-25  2021-01-03\n",
      "freq                           1       4           1           1\n",
      "\n",
      "Información de los datos:\n",
      "<class 'pandas.core.frame.DataFrame'>\n",
      "RangeIndex: 14 entries, 0 to 13\n",
      "Data columns (total 4 columns):\n",
      " #   Column     Non-Null Count  Dtype \n",
      "---  ------     --------------  ----- \n",
      " 0   name       14 non-null     object\n",
      " 1   regions    14 non-null     object\n",
      " 2   start_dt   14 non-null     object\n",
      " 3   finish_dt  14 non-null     object\n",
      "dtypes: object(4)\n",
      "memory usage: 580.0+ bytes\n",
      "None\n",
      "\n",
      "Valores nulos en los datos:\n",
      "name         0\n",
      "regions      0\n",
      "start_dt     0\n",
      "finish_dt    0\n",
      "dtype: int64\n",
      "\n",
      "Valores duplicados en los datos:\n",
      "0\n"
     ]
    }
   ],
   "source": [
    "analisis_exploratorio(promos)"
   ]
  },
  {
   "cell_type": "markdown",
   "id": "686bc12f",
   "metadata": {},
   "source": [
    "El dataframe de promos no tiene valores nulos ni duplicados, pero las columnas de fechas están en str, es necesario cambiarlas a datetime."
   ]
  },
  {
   "cell_type": "code",
   "execution_count": 5,
   "id": "0bbe23f3",
   "metadata": {},
   "outputs": [],
   "source": [
    "# Se cambia el data type a las columnas de fechas.\n",
    "\n",
    "promos['start_dt'] = pd.to_datetime(promos['start_dt'])\n",
    "promos['finish_dt'] = pd.to_datetime(promos['finish_dt'])"
   ]
  },
  {
   "cell_type": "code",
   "execution_count": 6,
   "id": "d9270795",
   "metadata": {},
   "outputs": [
    {
     "name": "stdout",
     "output_type": "stream",
     "text": [
      "<class 'pandas.core.frame.DataFrame'>\n",
      "RangeIndex: 14 entries, 0 to 13\n",
      "Data columns (total 4 columns):\n",
      " #   Column     Non-Null Count  Dtype         \n",
      "---  ------     --------------  -----         \n",
      " 0   name       14 non-null     object        \n",
      " 1   regions    14 non-null     object        \n",
      " 2   start_dt   14 non-null     datetime64[ns]\n",
      " 3   finish_dt  14 non-null     datetime64[ns]\n",
      "dtypes: datetime64[ns](2), object(2)\n",
      "memory usage: 580.0+ bytes\n"
     ]
    }
   ],
   "source": [
    "promos.info()"
   ]
  },
  {
   "cell_type": "code",
   "execution_count": 7,
   "id": "cf4c4a1c",
   "metadata": {},
   "outputs": [
    {
     "name": "stdout",
     "output_type": "stream",
     "text": [
      "Primeras líneas de los datos:\n",
      "            user_id  first_date     region   device\n",
      "0  D72A72121175D8BE  2020-12-07         EU       PC\n",
      "1  F1C668619DFE6E65  2020-12-07  N.America  Android\n",
      "2  2E1BF1D4C37EA01F  2020-12-07         EU       PC\n",
      "3  50734A22C0C63768  2020-12-07         EU   iPhone\n",
      "4  E1BDDCE0DAFA2679  2020-12-07  N.America   iPhone\n",
      "Descripción de los datos:\n",
      "                 user_id  first_date region   device\n",
      "count              58703       58703  58703    58703\n",
      "unique             58703          17      4        4\n",
      "top     D72A72121175D8BE  2020-12-21     EU  Android\n",
      "freq                   1        6077  43396    26159\n",
      "\n",
      "Información de los datos:\n",
      "<class 'pandas.core.frame.DataFrame'>\n",
      "RangeIndex: 58703 entries, 0 to 58702\n",
      "Data columns (total 4 columns):\n",
      " #   Column      Non-Null Count  Dtype \n",
      "---  ------      --------------  ----- \n",
      " 0   user_id     58703 non-null  object\n",
      " 1   first_date  58703 non-null  object\n",
      " 2   region      58703 non-null  object\n",
      " 3   device      58703 non-null  object\n",
      "dtypes: object(4)\n",
      "memory usage: 1.8+ MB\n",
      "None\n",
      "\n",
      "Valores nulos en los datos:\n",
      "user_id       0\n",
      "first_date    0\n",
      "region        0\n",
      "device        0\n",
      "dtype: int64\n",
      "\n",
      "Valores duplicados en los datos:\n",
      "0\n"
     ]
    }
   ],
   "source": [
    "analisis_exploratorio(usuarios)"
   ]
  },
  {
   "cell_type": "markdown",
   "id": "91008a37",
   "metadata": {},
   "source": [
    "El dataframe de usuarios no tiene valores nulos ni duplicados, pero la columna first_date están en str, es necesario cambiarla a datetime."
   ]
  },
  {
   "cell_type": "code",
   "execution_count": 8,
   "id": "3d56654c",
   "metadata": {},
   "outputs": [],
   "source": [
    "# Se cambia el data type a las columnas de fechas.\n",
    "\n",
    "usuarios['first_date'] = pd.to_datetime(usuarios['first_date'])"
   ]
  },
  {
   "cell_type": "code",
   "execution_count": 9,
   "id": "d79dfec1",
   "metadata": {},
   "outputs": [
    {
     "name": "stdout",
     "output_type": "stream",
     "text": [
      "<class 'pandas.core.frame.DataFrame'>\n",
      "RangeIndex: 58703 entries, 0 to 58702\n",
      "Data columns (total 4 columns):\n",
      " #   Column      Non-Null Count  Dtype         \n",
      "---  ------      --------------  -----         \n",
      " 0   user_id     58703 non-null  object        \n",
      " 1   first_date  58703 non-null  datetime64[ns]\n",
      " 2   region      58703 non-null  object        \n",
      " 3   device      58703 non-null  object        \n",
      "dtypes: datetime64[ns](1), object(3)\n",
      "memory usage: 1.8+ MB\n"
     ]
    }
   ],
   "source": [
    "usuarios.info()"
   ]
  },
  {
   "cell_type": "code",
   "execution_count": 10,
   "id": "6d91af5e",
   "metadata": {},
   "outputs": [
    {
     "name": "stdout",
     "output_type": "stream",
     "text": [
      "Primeras líneas de los datos:\n",
      "            user_id             event_dt event_name  details\n",
      "0  E1BDDCE0DAFA2679  2020-12-07 20:22:03   purchase    99.99\n",
      "1  7B6452F081F49504  2020-12-07 09:22:53   purchase     9.99\n",
      "2  9CD9F34546DF254C  2020-12-07 12:59:29   purchase     4.99\n",
      "3  96F27A054B191457  2020-12-07 04:02:40   purchase     4.99\n",
      "4  1FD7660FDF94CA1F  2020-12-07 10:15:09   purchase     4.99\n",
      "Descripción de los datos:\n",
      "            details\n",
      "count  60314.000000\n",
      "mean      23.881219\n",
      "std       72.228884\n",
      "min        4.990000\n",
      "25%        4.990000\n",
      "50%        4.990000\n",
      "75%        9.990000\n",
      "max      499.990000\n",
      "\n",
      "Información de los datos:\n",
      "<class 'pandas.core.frame.DataFrame'>\n",
      "RangeIndex: 423761 entries, 0 to 423760\n",
      "Data columns (total 4 columns):\n",
      " #   Column      Non-Null Count   Dtype  \n",
      "---  ------      --------------   -----  \n",
      " 0   user_id     423761 non-null  object \n",
      " 1   event_dt    423761 non-null  object \n",
      " 2   event_name  423761 non-null  object \n",
      " 3   details     60314 non-null   float64\n",
      "dtypes: float64(1), object(3)\n",
      "memory usage: 12.9+ MB\n",
      "None\n",
      "\n",
      "Valores nulos en los datos:\n",
      "user_id            0\n",
      "event_dt           0\n",
      "event_name         0\n",
      "details       363447\n",
      "dtype: int64\n",
      "\n",
      "Valores duplicados en los datos:\n",
      "0\n"
     ]
    }
   ],
   "source": [
    "analisis_exploratorio(eventos)"
   ]
  },
  {
   "cell_type": "markdown",
   "id": "47dfa317",
   "metadata": {},
   "source": [
    "El dataframe de eventos tiene 363447 valores nulos pero no tiene duplicados, según el contexto de la información esto es debido a que cuando el evento es purchase se agregan detalles del mismo, debido a eso los otros eventos no tienen información en la columna, sería necesario confirmar esta información.<br>\n",
    "De igual manera la columna event_dt están en str, es necesario cambiarla a datetime."
   ]
  },
  {
   "cell_type": "code",
   "execution_count": 11,
   "id": "ba9e82e8",
   "metadata": {},
   "outputs": [],
   "source": [
    "eventos['event_dt'] = pd.to_datetime(eventos['event_dt'])"
   ]
  },
  {
   "cell_type": "code",
   "execution_count": 12,
   "id": "5fc0adc3",
   "metadata": {},
   "outputs": [
    {
     "name": "stdout",
     "output_type": "stream",
     "text": [
      "<class 'pandas.core.frame.DataFrame'>\n",
      "RangeIndex: 423761 entries, 0 to 423760\n",
      "Data columns (total 4 columns):\n",
      " #   Column      Non-Null Count   Dtype         \n",
      "---  ------      --------------   -----         \n",
      " 0   user_id     423761 non-null  object        \n",
      " 1   event_dt    423761 non-null  datetime64[ns]\n",
      " 2   event_name  423761 non-null  object        \n",
      " 3   details     60314 non-null   float64       \n",
      "dtypes: datetime64[ns](1), float64(1), object(2)\n",
      "memory usage: 12.9+ MB\n"
     ]
    }
   ],
   "source": [
    "eventos.info()"
   ]
  },
  {
   "cell_type": "code",
   "execution_count": 13,
   "id": "7c1d920a",
   "metadata": {},
   "outputs": [
    {
     "name": "stdout",
     "output_type": "stream",
     "text": [
      "Primeras líneas de los datos:\n",
      "            user_id group                  ab_test\n",
      "0  D1ABA3E2887B6A73     A  recommender_system_test\n",
      "1  A7A3664BD6242119     A  recommender_system_test\n",
      "2  DABC14FDDFADD29E     A  recommender_system_test\n",
      "3  04988C5DF189632E     A  recommender_system_test\n",
      "4  4FF2998A348C484F     A  recommender_system_test\n",
      "Descripción de los datos:\n",
      "                 user_id  group            ab_test\n",
      "count              14525  14525              14525\n",
      "unique             13638      2                  2\n",
      "top     307C06C0E6F09B93      A  interface_eu_test\n",
      "freq                   2   8214              10850\n",
      "\n",
      "Información de los datos:\n",
      "<class 'pandas.core.frame.DataFrame'>\n",
      "RangeIndex: 14525 entries, 0 to 14524\n",
      "Data columns (total 3 columns):\n",
      " #   Column   Non-Null Count  Dtype \n",
      "---  ------   --------------  ----- \n",
      " 0   user_id  14525 non-null  object\n",
      " 1   group    14525 non-null  object\n",
      " 2   ab_test  14525 non-null  object\n",
      "dtypes: object(3)\n",
      "memory usage: 340.6+ KB\n",
      "None\n",
      "\n",
      "Valores nulos en los datos:\n",
      "user_id    0\n",
      "group      0\n",
      "ab_test    0\n",
      "dtype: int64\n",
      "\n",
      "Valores duplicados en los datos:\n",
      "0\n"
     ]
    }
   ],
   "source": [
    "analisis_exploratorio(grupos)"
   ]
  },
  {
   "cell_type": "markdown",
   "id": "2472612b",
   "metadata": {},
   "source": [
    "El dataframe de grupos no tiene valores nulos ni duplicados, ni columnas que sea necesario modificar. En los usuarios únicos nos dice que tenemos 13638 usuarios pero hay 14525 filas en el dataframe, tendremos que verificar si ese excedente de usuarios (887) se presentan en ambos grupos, de ser así tendríamos que eliminar las filas."
   ]
  },
  {
   "cell_type": "code",
   "execution_count": 14,
   "id": "ba0c1a18",
   "metadata": {},
   "outputs": [],
   "source": [
    "# Verificaremos si hay user_ids duplicados en ambos grupos.\n",
    "\n",
    "usuarios_por_grupo = grupos.groupby('user_id')['ab_test'].nunique()\n",
    "usuarios_duplicados = usuarios_por_grupo[usuarios_por_grupo > 1].index\n",
    "registros_duplicados = grupos[grupos['user_id'].isin(usuarios_duplicados)]"
   ]
  },
  {
   "cell_type": "code",
   "execution_count": 15,
   "id": "9e14e553",
   "metadata": {},
   "outputs": [
    {
     "name": "stdout",
     "output_type": "stream",
     "text": [
      "Los usuarios con un grupo asignado son: 13638\n",
      "\n",
      "El número de usuarios que están en ambas pruebas es: 887\n",
      "\n",
      "                user_id group                  ab_test\n",
      "2      DABC14FDDFADD29E     A  recommender_system_test\n",
      "3      04988C5DF189632E     A  recommender_system_test\n",
      "8      B3A2485649E4A012     A  recommender_system_test\n",
      "15     EAFB9027A27D510C     B  recommender_system_test\n",
      "17     5D5E6EE92AF6E9E0     B  recommender_system_test\n",
      "...                 ...   ...                      ...\n",
      "14433  7DF21AEB1AA231F9     B        interface_eu_test\n",
      "14445  EA6EA431FF84563B     B        interface_eu_test\n",
      "14470  70BF82527E6ED9C3     A        interface_eu_test\n",
      "14487  EF2E4FAF26951358     A        interface_eu_test\n",
      "14511  CA6F4DAED160E5B1     A        interface_eu_test\n",
      "\n",
      "[1774 rows x 3 columns]\n"
     ]
    }
   ],
   "source": [
    "# Checamos si hay usuarios duplicados en ambos grupos.\n",
    "\n",
    "print('Los usuarios con un grupo asignado son:', len(usuarios_por_grupo))\n",
    "print()\n",
    "print('El número de usuarios que están en ambas pruebas es:', (len(usuarios_duplicados)))\n",
    "print()\n",
    "print(registros_duplicados)"
   ]
  },
  {
   "cell_type": "code",
   "execution_count": 16,
   "id": "2434f10d",
   "metadata": {},
   "outputs": [],
   "source": [
    "# Creación de una copia del DataFrame 'grupos' para la limpieza de datos.\n",
    "grupos_clean = grupos.copy()\n",
    "\n",
    "# Eliminamos los usuarios duplicados de ambos grupos.\n",
    "grupos_clean = grupos_clean.drop(registros_duplicados.index)"
   ]
  },
  {
   "cell_type": "code",
   "execution_count": 17,
   "id": "7900e720",
   "metadata": {},
   "outputs": [
    {
     "name": "stdout",
     "output_type": "stream",
     "text": [
      "Primeras líneas de los datos:\n",
      "            user_id group                  ab_test\n",
      "0  D1ABA3E2887B6A73     A  recommender_system_test\n",
      "1  A7A3664BD6242119     A  recommender_system_test\n",
      "4  4FF2998A348C484F     A  recommender_system_test\n",
      "5  7473E0943673C09E     A  recommender_system_test\n",
      "6  C46FE336D240A054     A  recommender_system_test\n",
      "Descripción de los datos:\n",
      "                 user_id  group            ab_test\n",
      "count              12751  12751              12751\n",
      "unique             12751      2                  2\n",
      "top     D1ABA3E2887B6A73      A  interface_eu_test\n",
      "freq                   1   7093               9963\n",
      "\n",
      "Información de los datos:\n",
      "<class 'pandas.core.frame.DataFrame'>\n",
      "Index: 12751 entries, 0 to 14524\n",
      "Data columns (total 3 columns):\n",
      " #   Column   Non-Null Count  Dtype \n",
      "---  ------   --------------  ----- \n",
      " 0   user_id  12751 non-null  object\n",
      " 1   group    12751 non-null  object\n",
      " 2   ab_test  12751 non-null  object\n",
      "dtypes: object(3)\n",
      "memory usage: 398.5+ KB\n",
      "None\n",
      "\n",
      "Valores nulos en los datos:\n",
      "user_id    0\n",
      "group      0\n",
      "ab_test    0\n",
      "dtype: int64\n",
      "\n",
      "Valores duplicados en los datos:\n",
      "0\n"
     ]
    }
   ],
   "source": [
    "analisis_exploratorio(grupos_clean)"
   ]
  },
  {
   "cell_type": "markdown",
   "id": "90304d39",
   "metadata": {},
   "source": [
    "De las 14525 que había en un inicio en el DataFrame grupos solo quedaron 12751 filas, debido a que había usarios que estaban en ambas pruebas. Se eliminaron dichos usarios ya que interfieren directamente en el análisis de los datos. "
   ]
  },
  {
   "cell_type": "markdown",
   "id": "f8f822e7",
   "metadata": {},
   "source": [
    "### Lleva a cabo el análisis exploratorio de datos:"
   ]
  },
  {
   "cell_type": "code",
   "execution_count": 18,
   "id": "c9487ab2",
   "metadata": {},
   "outputs": [
    {
     "name": "stdout",
     "output_type": "stream",
     "text": [
      "<class 'pandas.core.frame.DataFrame'>\n",
      "RangeIndex: 423761 entries, 0 to 423760\n",
      "Data columns (total 6 columns):\n",
      " #   Column      Non-Null Count   Dtype         \n",
      "---  ------      --------------   -----         \n",
      " 0   user_id     423761 non-null  object        \n",
      " 1   event_dt    423761 non-null  datetime64[ns]\n",
      " 2   event_name  423761 non-null  object        \n",
      " 3   details     60314 non-null   float64       \n",
      " 4   group       91408 non-null   object        \n",
      " 5   ab_test     91408 non-null   object        \n",
      "dtypes: datetime64[ns](1), float64(1), object(4)\n",
      "memory usage: 19.4+ MB\n"
     ]
    }
   ],
   "source": [
    "# Se unen los DataFrames 'eventos' y 'grupos_clean' en base a la columna 'user_id'.\n",
    "\n",
    "eventos_grupos = eventos.merge(grupos_clean, on = 'user_id', how = 'left')\n",
    "\n",
    "eventos_grupos.info()"
   ]
  },
  {
   "cell_type": "markdown",
   "id": "fa407f33",
   "metadata": {},
   "source": [
    "Los usuarios que no se tomaron como muestra para las pruebas y que no estan presentes en ningun grupo tendran estos valores como NaN."
   ]
  },
  {
   "cell_type": "markdown",
   "id": "a254646b",
   "metadata": {},
   "source": [
    "- Estudia la conversión en las diferentes etapas del embudo."
   ]
  },
  {
   "cell_type": "code",
   "execution_count": 19,
   "id": "b009fca6",
   "metadata": {},
   "outputs": [
    {
     "name": "stdout",
     "output_type": "stream",
     "text": [
      "Total de eventos: 423761\n",
      "         evento   total  porcentaje\n",
      "0         login  182465       43.06\n",
      "1  product_page  120862       28.52\n",
      "2      purchase   60314       14.23\n",
      "3  product_cart   60120       14.19\n"
     ]
    }
   ],
   "source": [
    "# ¿Cuántos eventos hay por en los diferentes eventos?\n",
    "\n",
    "total_eventos = eventos_grupos['event_name'].count()\n",
    "print(f\"Total de eventos: {total_eventos}\")\n",
    "# Creación de un embudo de eventos para el DataFrame \"eventos_grupos\".\n",
    "embudo = eventos_grupos['event_name'].value_counts().reset_index()\n",
    "embudo.columns = ['evento', 'total']\n",
    "embudo['porcentaje'] = round((embudo['total'] / total_eventos ) * 100, 2)\n",
    "print(embudo)"
   ]
  },
  {
   "cell_type": "code",
   "execution_count": 20,
   "id": "ab555333",
   "metadata": {},
   "outputs": [
    {
     "data": {
      "application/vnd.plotly.v1+json": {
       "config": {
        "plotlyServerURL": "https://plot.ly"
       },
       "data": [
        {
         "hovertemplate": "total=%{x}<br>evento=%{y}<extra></extra>",
         "legendgroup": "",
         "marker": {
          "color": [
           "gold",
           "mediumturquoise",
           "darkorange",
           "lightgreen"
          ],
          "line": {
           "color": "lightgray",
           "width": 2
          }
         },
         "name": "",
         "orientation": "h",
         "showlegend": false,
         "type": "funnel",
         "x": [
          182465,
          120862,
          60314,
          60120
         ],
         "xaxis": "x",
         "y": [
          "login",
          "product_page",
          "purchase",
          "product_cart"
         ],
         "yaxis": "y"
        }
       ],
       "layout": {
        "font": {
         "color": "white"
        },
        "legend": {
         "tracegroupgap": 0
        },
        "paper_bgcolor": "black",
        "plot_bgcolor": "black",
        "template": {
         "data": {
          "bar": [
           {
            "error_x": {
             "color": "#2a3f5f"
            },
            "error_y": {
             "color": "#2a3f5f"
            },
            "marker": {
             "line": {
              "color": "#E5ECF6",
              "width": 0.5
             },
             "pattern": {
              "fillmode": "overlay",
              "size": 10,
              "solidity": 0.2
             }
            },
            "type": "bar"
           }
          ],
          "barpolar": [
           {
            "marker": {
             "line": {
              "color": "#E5ECF6",
              "width": 0.5
             },
             "pattern": {
              "fillmode": "overlay",
              "size": 10,
              "solidity": 0.2
             }
            },
            "type": "barpolar"
           }
          ],
          "carpet": [
           {
            "aaxis": {
             "endlinecolor": "#2a3f5f",
             "gridcolor": "white",
             "linecolor": "white",
             "minorgridcolor": "white",
             "startlinecolor": "#2a3f5f"
            },
            "baxis": {
             "endlinecolor": "#2a3f5f",
             "gridcolor": "white",
             "linecolor": "white",
             "minorgridcolor": "white",
             "startlinecolor": "#2a3f5f"
            },
            "type": "carpet"
           }
          ],
          "choropleth": [
           {
            "colorbar": {
             "outlinewidth": 0,
             "ticks": ""
            },
            "type": "choropleth"
           }
          ],
          "contour": [
           {
            "colorbar": {
             "outlinewidth": 0,
             "ticks": ""
            },
            "colorscale": [
             [
              0,
              "#0d0887"
             ],
             [
              0.1111111111111111,
              "#46039f"
             ],
             [
              0.2222222222222222,
              "#7201a8"
             ],
             [
              0.3333333333333333,
              "#9c179e"
             ],
             [
              0.4444444444444444,
              "#bd3786"
             ],
             [
              0.5555555555555556,
              "#d8576b"
             ],
             [
              0.6666666666666666,
              "#ed7953"
             ],
             [
              0.7777777777777778,
              "#fb9f3a"
             ],
             [
              0.8888888888888888,
              "#fdca26"
             ],
             [
              1,
              "#f0f921"
             ]
            ],
            "type": "contour"
           }
          ],
          "contourcarpet": [
           {
            "colorbar": {
             "outlinewidth": 0,
             "ticks": ""
            },
            "type": "contourcarpet"
           }
          ],
          "heatmap": [
           {
            "colorbar": {
             "outlinewidth": 0,
             "ticks": ""
            },
            "colorscale": [
             [
              0,
              "#0d0887"
             ],
             [
              0.1111111111111111,
              "#46039f"
             ],
             [
              0.2222222222222222,
              "#7201a8"
             ],
             [
              0.3333333333333333,
              "#9c179e"
             ],
             [
              0.4444444444444444,
              "#bd3786"
             ],
             [
              0.5555555555555556,
              "#d8576b"
             ],
             [
              0.6666666666666666,
              "#ed7953"
             ],
             [
              0.7777777777777778,
              "#fb9f3a"
             ],
             [
              0.8888888888888888,
              "#fdca26"
             ],
             [
              1,
              "#f0f921"
             ]
            ],
            "type": "heatmap"
           }
          ],
          "heatmapgl": [
           {
            "colorbar": {
             "outlinewidth": 0,
             "ticks": ""
            },
            "colorscale": [
             [
              0,
              "#0d0887"
             ],
             [
              0.1111111111111111,
              "#46039f"
             ],
             [
              0.2222222222222222,
              "#7201a8"
             ],
             [
              0.3333333333333333,
              "#9c179e"
             ],
             [
              0.4444444444444444,
              "#bd3786"
             ],
             [
              0.5555555555555556,
              "#d8576b"
             ],
             [
              0.6666666666666666,
              "#ed7953"
             ],
             [
              0.7777777777777778,
              "#fb9f3a"
             ],
             [
              0.8888888888888888,
              "#fdca26"
             ],
             [
              1,
              "#f0f921"
             ]
            ],
            "type": "heatmapgl"
           }
          ],
          "histogram": [
           {
            "marker": {
             "pattern": {
              "fillmode": "overlay",
              "size": 10,
              "solidity": 0.2
             }
            },
            "type": "histogram"
           }
          ],
          "histogram2d": [
           {
            "colorbar": {
             "outlinewidth": 0,
             "ticks": ""
            },
            "colorscale": [
             [
              0,
              "#0d0887"
             ],
             [
              0.1111111111111111,
              "#46039f"
             ],
             [
              0.2222222222222222,
              "#7201a8"
             ],
             [
              0.3333333333333333,
              "#9c179e"
             ],
             [
              0.4444444444444444,
              "#bd3786"
             ],
             [
              0.5555555555555556,
              "#d8576b"
             ],
             [
              0.6666666666666666,
              "#ed7953"
             ],
             [
              0.7777777777777778,
              "#fb9f3a"
             ],
             [
              0.8888888888888888,
              "#fdca26"
             ],
             [
              1,
              "#f0f921"
             ]
            ],
            "type": "histogram2d"
           }
          ],
          "histogram2dcontour": [
           {
            "colorbar": {
             "outlinewidth": 0,
             "ticks": ""
            },
            "colorscale": [
             [
              0,
              "#0d0887"
             ],
             [
              0.1111111111111111,
              "#46039f"
             ],
             [
              0.2222222222222222,
              "#7201a8"
             ],
             [
              0.3333333333333333,
              "#9c179e"
             ],
             [
              0.4444444444444444,
              "#bd3786"
             ],
             [
              0.5555555555555556,
              "#d8576b"
             ],
             [
              0.6666666666666666,
              "#ed7953"
             ],
             [
              0.7777777777777778,
              "#fb9f3a"
             ],
             [
              0.8888888888888888,
              "#fdca26"
             ],
             [
              1,
              "#f0f921"
             ]
            ],
            "type": "histogram2dcontour"
           }
          ],
          "mesh3d": [
           {
            "colorbar": {
             "outlinewidth": 0,
             "ticks": ""
            },
            "type": "mesh3d"
           }
          ],
          "parcoords": [
           {
            "line": {
             "colorbar": {
              "outlinewidth": 0,
              "ticks": ""
             }
            },
            "type": "parcoords"
           }
          ],
          "pie": [
           {
            "automargin": true,
            "type": "pie"
           }
          ],
          "scatter": [
           {
            "fillpattern": {
             "fillmode": "overlay",
             "size": 10,
             "solidity": 0.2
            },
            "type": "scatter"
           }
          ],
          "scatter3d": [
           {
            "line": {
             "colorbar": {
              "outlinewidth": 0,
              "ticks": ""
             }
            },
            "marker": {
             "colorbar": {
              "outlinewidth": 0,
              "ticks": ""
             }
            },
            "type": "scatter3d"
           }
          ],
          "scattercarpet": [
           {
            "marker": {
             "colorbar": {
              "outlinewidth": 0,
              "ticks": ""
             }
            },
            "type": "scattercarpet"
           }
          ],
          "scattergeo": [
           {
            "marker": {
             "colorbar": {
              "outlinewidth": 0,
              "ticks": ""
             }
            },
            "type": "scattergeo"
           }
          ],
          "scattergl": [
           {
            "marker": {
             "colorbar": {
              "outlinewidth": 0,
              "ticks": ""
             }
            },
            "type": "scattergl"
           }
          ],
          "scattermapbox": [
           {
            "marker": {
             "colorbar": {
              "outlinewidth": 0,
              "ticks": ""
             }
            },
            "type": "scattermapbox"
           }
          ],
          "scatterpolar": [
           {
            "marker": {
             "colorbar": {
              "outlinewidth": 0,
              "ticks": ""
             }
            },
            "type": "scatterpolar"
           }
          ],
          "scatterpolargl": [
           {
            "marker": {
             "colorbar": {
              "outlinewidth": 0,
              "ticks": ""
             }
            },
            "type": "scatterpolargl"
           }
          ],
          "scatterternary": [
           {
            "marker": {
             "colorbar": {
              "outlinewidth": 0,
              "ticks": ""
             }
            },
            "type": "scatterternary"
           }
          ],
          "surface": [
           {
            "colorbar": {
             "outlinewidth": 0,
             "ticks": ""
            },
            "colorscale": [
             [
              0,
              "#0d0887"
             ],
             [
              0.1111111111111111,
              "#46039f"
             ],
             [
              0.2222222222222222,
              "#7201a8"
             ],
             [
              0.3333333333333333,
              "#9c179e"
             ],
             [
              0.4444444444444444,
              "#bd3786"
             ],
             [
              0.5555555555555556,
              "#d8576b"
             ],
             [
              0.6666666666666666,
              "#ed7953"
             ],
             [
              0.7777777777777778,
              "#fb9f3a"
             ],
             [
              0.8888888888888888,
              "#fdca26"
             ],
             [
              1,
              "#f0f921"
             ]
            ],
            "type": "surface"
           }
          ],
          "table": [
           {
            "cells": {
             "fill": {
              "color": "#EBF0F8"
             },
             "line": {
              "color": "white"
             }
            },
            "header": {
             "fill": {
              "color": "#C8D4E3"
             },
             "line": {
              "color": "white"
             }
            },
            "type": "table"
           }
          ]
         },
         "layout": {
          "annotationdefaults": {
           "arrowcolor": "#2a3f5f",
           "arrowhead": 0,
           "arrowwidth": 1
          },
          "autotypenumbers": "strict",
          "coloraxis": {
           "colorbar": {
            "outlinewidth": 0,
            "ticks": ""
           }
          },
          "colorscale": {
           "diverging": [
            [
             0,
             "#8e0152"
            ],
            [
             0.1,
             "#c51b7d"
            ],
            [
             0.2,
             "#de77ae"
            ],
            [
             0.3,
             "#f1b6da"
            ],
            [
             0.4,
             "#fde0ef"
            ],
            [
             0.5,
             "#f7f7f7"
            ],
            [
             0.6,
             "#e6f5d0"
            ],
            [
             0.7,
             "#b8e186"
            ],
            [
             0.8,
             "#7fbc41"
            ],
            [
             0.9,
             "#4d9221"
            ],
            [
             1,
             "#276419"
            ]
           ],
           "sequential": [
            [
             0,
             "#0d0887"
            ],
            [
             0.1111111111111111,
             "#46039f"
            ],
            [
             0.2222222222222222,
             "#7201a8"
            ],
            [
             0.3333333333333333,
             "#9c179e"
            ],
            [
             0.4444444444444444,
             "#bd3786"
            ],
            [
             0.5555555555555556,
             "#d8576b"
            ],
            [
             0.6666666666666666,
             "#ed7953"
            ],
            [
             0.7777777777777778,
             "#fb9f3a"
            ],
            [
             0.8888888888888888,
             "#fdca26"
            ],
            [
             1,
             "#f0f921"
            ]
           ],
           "sequentialminus": [
            [
             0,
             "#0d0887"
            ],
            [
             0.1111111111111111,
             "#46039f"
            ],
            [
             0.2222222222222222,
             "#7201a8"
            ],
            [
             0.3333333333333333,
             "#9c179e"
            ],
            [
             0.4444444444444444,
             "#bd3786"
            ],
            [
             0.5555555555555556,
             "#d8576b"
            ],
            [
             0.6666666666666666,
             "#ed7953"
            ],
            [
             0.7777777777777778,
             "#fb9f3a"
            ],
            [
             0.8888888888888888,
             "#fdca26"
            ],
            [
             1,
             "#f0f921"
            ]
           ]
          },
          "colorway": [
           "#636efa",
           "#EF553B",
           "#00cc96",
           "#ab63fa",
           "#FFA15A",
           "#19d3f3",
           "#FF6692",
           "#B6E880",
           "#FF97FF",
           "#FECB52"
          ],
          "font": {
           "color": "#2a3f5f"
          },
          "geo": {
           "bgcolor": "white",
           "lakecolor": "white",
           "landcolor": "#E5ECF6",
           "showlakes": true,
           "showland": true,
           "subunitcolor": "white"
          },
          "hoverlabel": {
           "align": "left"
          },
          "hovermode": "closest",
          "mapbox": {
           "style": "light"
          },
          "paper_bgcolor": "white",
          "plot_bgcolor": "#E5ECF6",
          "polar": {
           "angularaxis": {
            "gridcolor": "white",
            "linecolor": "white",
            "ticks": ""
           },
           "bgcolor": "#E5ECF6",
           "radialaxis": {
            "gridcolor": "white",
            "linecolor": "white",
            "ticks": ""
           }
          },
          "scene": {
           "xaxis": {
            "backgroundcolor": "#E5ECF6",
            "gridcolor": "white",
            "gridwidth": 2,
            "linecolor": "white",
            "showbackground": true,
            "ticks": "",
            "zerolinecolor": "white"
           },
           "yaxis": {
            "backgroundcolor": "#E5ECF6",
            "gridcolor": "white",
            "gridwidth": 2,
            "linecolor": "white",
            "showbackground": true,
            "ticks": "",
            "zerolinecolor": "white"
           },
           "zaxis": {
            "backgroundcolor": "#E5ECF6",
            "gridcolor": "white",
            "gridwidth": 2,
            "linecolor": "white",
            "showbackground": true,
            "ticks": "",
            "zerolinecolor": "white"
           }
          },
          "shapedefaults": {
           "line": {
            "color": "#2a3f5f"
           }
          },
          "ternary": {
           "aaxis": {
            "gridcolor": "white",
            "linecolor": "white",
            "ticks": ""
           },
           "baxis": {
            "gridcolor": "white",
            "linecolor": "white",
            "ticks": ""
           },
           "bgcolor": "#E5ECF6",
           "caxis": {
            "gridcolor": "white",
            "linecolor": "white",
            "ticks": ""
           }
          },
          "title": {
           "x": 0.05
          },
          "xaxis": {
           "automargin": true,
           "gridcolor": "white",
           "linecolor": "white",
           "ticks": "",
           "title": {
            "standoff": 15
           },
           "zerolinecolor": "white",
           "zerolinewidth": 2
          },
          "yaxis": {
           "automargin": true,
           "gridcolor": "white",
           "linecolor": "white",
           "ticks": "",
           "title": {
            "standoff": 15
           },
           "zerolinecolor": "white",
           "zerolinewidth": 2
          }
         }
        },
        "title": {
         "text": "Embudo de eventos"
        },
        "xaxis": {
         "anchor": "y",
         "domain": [
          0,
          1
         ],
         "title": {
          "text": "total"
         }
        },
        "yaxis": {
         "anchor": "x",
         "domain": [
          0,
          1
         ],
         "title": {
          "text": "evento"
         }
        }
       }
      }
     },
     "metadata": {},
     "output_type": "display_data"
    }
   ],
   "source": [
    "# Gráfica del embudo de eventos.\n",
    "\n",
    "fig = px.funnel(embudo,\n",
    "                x = 'total',\n",
    "                y = 'evento',\n",
    "                title = 'Embudo de eventos',\n",
    "                labels = {'index': 'evento', 'value': 'Número de eventos'}\n",
    ")\n",
    "\n",
    "colors = ['gold', 'mediumturquoise', 'darkorange', 'lightgreen']\n",
    "fig.data[0].marker.color = color = colors[:len(fig.data[0].y)]\n",
    "fig.data[0].marker.line.width = 2\n",
    "fig.data[0].marker.line.color = 'lightgray'\n",
    "\n",
    "fig.update_layout(\n",
    "    paper_bgcolor = 'black',\n",
    "    plot_bgcolor = 'black',\n",
    "    font_color = 'white'\n",
    ")                \n",
    "fig.show()"
   ]
  },
  {
   "cell_type": "markdown",
   "id": "5c5f8237",
   "metadata": {},
   "source": [
    "Según el embudo anterior un poco mas de 182 K usuarios hicieron login en la página.<br>\n",
    "Más de 120.8 K entraron a la página del producto.<br>\n",
    "De aquí esta un poco invertido el embudo, lo ideal sería que los usuarios primero agregaran al carrito y luego realizaran la compra pero no, más de 60.3 K usuarios realizaron la compra y alrededor de 60.1 K entraron a la página del carrito, lo que tendríamos que verificar sería cuantos se pasaron del carrito a la compra y cuantos se quedaron alli."
   ]
  },
  {
   "cell_type": "markdown",
   "id": "f418e963",
   "metadata": {},
   "source": [
    "- ¿El número de eventos por usuario está distribuido equitativamente entre las muestras?"
   ]
  },
  {
   "cell_type": "code",
   "execution_count": 21,
   "id": "81235a61",
   "metadata": {},
   "outputs": [],
   "source": [
    "# Agrupación de los eventos por grupo A y B.\n",
    "\n",
    "muestraA = eventos_grupos.query('group == \"A\"')\n",
    "muestraB = eventos_grupos.query('group == \"B\"')"
   ]
  },
  {
   "cell_type": "code",
   "execution_count": 22,
   "id": "e5f58a97",
   "metadata": {},
   "outputs": [
    {
     "data": {
      "image/png": "[encoded data removed]",
      "text/plain": [
       "<Figure size 640x480 with 1 Axes>"
      ]
     },
     "metadata": {},
     "output_type": "display_data"
    }
   ],
   "source": [
    "# Análisis de la distribución de eventos por usuario por grupo A y B.\n",
    "\n",
    "eventos_usuariosA = muestraA.groupby('user_id').size()\n",
    "eventos_usuariosB = muestraB.groupby('user_id').size()\n",
    "\n",
    "plt.hist(eventos_usuariosA, bins=30, edgecolor='black', label = 'Grupo A')\n",
    "plt.hist(eventos_usuariosB, bins=30, edgecolor='red', alpha = 0.5, label = 'Grupo B')\n",
    "plt.xlabel('Número de eventos por usuario')\n",
    "plt.ylabel('Cantidad de usuarios')\n",
    "plt.title('Distribución de eventos por usuario')\n",
    "plt.legend()\n",
    "plt.show()"
   ]
  },
  {
   "cell_type": "code",
   "execution_count": 23,
   "id": "06a72d07",
   "metadata": {},
   "outputs": [
    {
     "name": "stdout",
     "output_type": "stream",
     "text": [
      "Desviación estándar en muestra A: 4.09\n",
      "Media de la muestra A: 7.24\n",
      "Coeficiente de variación en muestra A: 0.56\n",
      "\n",
      "Desviación estándar en muestra B: 4.12\n",
      "Media de la muestra B: 7.08\n",
      "Coeficiente de variación en muestra B: 0.58\n"
     ]
    }
   ],
   "source": [
    "# Se calculan los coeficientes de variación y desviación estándar de los eventos por usuarios en ambos grupos.\n",
    "\n",
    "stdA = eventos_usuariosA.std()\n",
    "meanA = eventos_usuariosA.mean()\n",
    "cvA = stdA / meanA # Coeficiente de variación\n",
    "\n",
    "print(f\"Desviación estándar en muestra A: {stdA:.2f}\")\n",
    "print(f\"Media de la muestra A: {meanA:.2f}\")\n",
    "print(f\"Coeficiente de variación en muestra A: {cvA:.2f}\")\n",
    "\n",
    "stdB = eventos_usuariosB.std()\n",
    "meanB = eventos_usuariosB.mean()\n",
    "cvB = stdB / meanB # Coeficiente de variación\n",
    "print()\n",
    "print(f\"Desviación estándar en muestra B: {stdB:.2f}\")\n",
    "print(f\"Media de la muestra B: {meanB:.2f}\")\n",
    "print(f\"Coeficiente de variación en muestra B: {cvB:.2f}\")"
   ]
  },
  {
   "cell_type": "markdown",
   "id": "0c516ace",
   "metadata": {},
   "source": [
    "El número de eventos por usuario no está distribuido equitativamente entre las muestras, ya que para estarlo el coeficiente de variación tiene que ser cercano a 0 y en este caso, en ambas están arriba de 0.55, lo que indica que existe bastante desigualdad."
   ]
  },
  {
   "cell_type": "markdown",
   "id": "cfc484d0",
   "metadata": {},
   "source": [
    "- ¿Cómo se distribuye el número de eventos entre los días?"
   ]
  },
  {
   "cell_type": "code",
   "execution_count": 24,
   "id": "40b3d70e",
   "metadata": {},
   "outputs": [
    {
     "data": {
      "image/png": "[encoded data removed]",
      "text/plain": [
       "<Figure size 1200x500 with 1 Axes>"
      ]
     },
     "metadata": {},
     "output_type": "display_data"
    }
   ],
   "source": [
    "# Se gráfican los eventos por día.\n",
    "\n",
    "eventos_por_dia = eventos_grupos.groupby(eventos_grupos['event_dt'].dt.date).size()\n",
    "\n",
    "eventos_por_dia.plot(kind='line', figsize=(12, 5))\n",
    "plt.xlabel('Fecha')\n",
    "plt.ylabel('Número de eventos')\n",
    "plt.title('Eventos por día')\n",
    "plt.grid(True)\n",
    "plt.show()"
   ]
  },
  {
   "cell_type": "code",
   "execution_count": 25,
   "id": "b1e7a4eb",
   "metadata": {},
   "outputs": [
    {
     "name": "stdout",
     "output_type": "stream",
     "text": [
      "Desviación estándar por día: 7651.97\n",
      "Media de la muestra por día: 18424.39\n",
      "Coeficiente de variación por día: 0.42\n"
     ]
    }
   ],
   "source": [
    "# Se calculan los coeficientes de variación y desviación estándar de los eventos de los usuarios por día.\n",
    "\n",
    "stdD = eventos_por_dia.std()\n",
    "meanD = eventos_por_dia.mean()\n",
    "cvD = stdD / meanD # Coeficiente de variación\n",
    "\n",
    "print(f\"Desviación estándar por día: {stdD:.2f}\")\n",
    "print(f\"Media de la muestra por día: {meanD:.2f}\")\n",
    "print(f\"Coeficiente de variación por día: {cvD:.2f}\")"
   ]
  },
  {
   "cell_type": "markdown",
   "id": "882811b2",
   "metadata": {},
   "source": [
    "De igual manera es muy desigual la distribución de los eventos por día de los usuarios, ya que el coeficiente de variación es de 0.42."
   ]
  },
  {
   "cell_type": "markdown",
   "id": "a187e110",
   "metadata": {},
   "source": [
    "- ¿Hay alguna peculiaridad en los datos que hay que tener en cuenta antes de iniciar la prueba A/B?"
   ]
  },
  {
   "cell_type": "code",
   "execution_count": 26,
   "id": "f953b0f1",
   "metadata": {},
   "outputs": [
    {
     "data": {
      "image/png": "[encoded data removed]",
      "text/plain": [
       "<Figure size 1000x500 with 1 Axes>"
      ]
     },
     "metadata": {},
     "output_type": "display_data"
    }
   ],
   "source": [
    "# Se gráfican los eventos por prueba en los grupos A y B.\n",
    "\n",
    "muestraA['ab_test'].value_counts().plot(kind='bar', figsize=(10, 5), color='blue', alpha=0.5, label = 'Grupo A')\n",
    "muestraB['ab_test'].value_counts().plot(kind='bar', figsize=(10, 5), color='red', alpha=0.7, label = 'Grupo B')\n",
    "plt.ylabel('Conteo de eventos')\n",
    "plt.title('Conteo de eventos por prueba en el grupo A y B')\n",
    "plt.legend()\n",
    "plt.xticks(rotation = 30)\n",
    "plt.show()"
   ]
  },
  {
   "cell_type": "code",
   "execution_count": 27,
   "id": "e7eac304",
   "metadata": {},
   "outputs": [
    {
     "data": {
      "text/html": [
       "<div>\n",
       "<style scoped>\n",
       "    .dataframe tbody tr th:only-of-type {\n",
       "        vertical-align: middle;\n",
       "    }\n",
       "\n",
       "    .dataframe tbody tr th {\n",
       "        vertical-align: top;\n",
       "    }\n",
       "\n",
       "    .dataframe thead th {\n",
       "        text-align: right;\n",
       "    }\n",
       "</style>\n",
       "<table border=\"1\" class=\"dataframe\">\n",
       "  <thead>\n",
       "    <tr style=\"text-align: right;\">\n",
       "      <th></th>\n",
       "      <th>name</th>\n",
       "      <th>regions</th>\n",
       "      <th>start_dt</th>\n",
       "      <th>finish_dt</th>\n",
       "    </tr>\n",
       "  </thead>\n",
       "  <tbody>\n",
       "    <tr>\n",
       "      <th>0</th>\n",
       "      <td>Christmas&amp;New Year Promo</td>\n",
       "      <td>EU, N.America</td>\n",
       "      <td>2020-12-25</td>\n",
       "      <td>2021-01-03</td>\n",
       "    </tr>\n",
       "    <tr>\n",
       "      <th>1</th>\n",
       "      <td>St. Valentine's Day Giveaway</td>\n",
       "      <td>EU, CIS, APAC, N.America</td>\n",
       "      <td>2020-02-14</td>\n",
       "      <td>2020-02-16</td>\n",
       "    </tr>\n",
       "    <tr>\n",
       "      <th>2</th>\n",
       "      <td>St. Patric's Day Promo</td>\n",
       "      <td>EU, N.America</td>\n",
       "      <td>2020-03-17</td>\n",
       "      <td>2020-03-19</td>\n",
       "    </tr>\n",
       "    <tr>\n",
       "      <th>3</th>\n",
       "      <td>Easter Promo</td>\n",
       "      <td>EU, CIS, APAC, N.America</td>\n",
       "      <td>2020-04-12</td>\n",
       "      <td>2020-04-19</td>\n",
       "    </tr>\n",
       "    <tr>\n",
       "      <th>4</th>\n",
       "      <td>4th of July Promo</td>\n",
       "      <td>N.America</td>\n",
       "      <td>2020-07-04</td>\n",
       "      <td>2020-07-11</td>\n",
       "    </tr>\n",
       "    <tr>\n",
       "      <th>5</th>\n",
       "      <td>Black Friday Ads Campaign</td>\n",
       "      <td>EU, CIS, APAC, N.America</td>\n",
       "      <td>2020-11-26</td>\n",
       "      <td>2020-12-01</td>\n",
       "    </tr>\n",
       "    <tr>\n",
       "      <th>6</th>\n",
       "      <td>Chinese New Year Promo</td>\n",
       "      <td>APAC</td>\n",
       "      <td>2020-01-25</td>\n",
       "      <td>2020-02-07</td>\n",
       "    </tr>\n",
       "    <tr>\n",
       "      <th>7</th>\n",
       "      <td>Labor day (May 1st) Ads Campaign</td>\n",
       "      <td>EU, CIS, APAC</td>\n",
       "      <td>2020-05-01</td>\n",
       "      <td>2020-05-03</td>\n",
       "    </tr>\n",
       "    <tr>\n",
       "      <th>8</th>\n",
       "      <td>International Women's Day Promo</td>\n",
       "      <td>EU, CIS, APAC</td>\n",
       "      <td>2020-03-08</td>\n",
       "      <td>2020-03-10</td>\n",
       "    </tr>\n",
       "    <tr>\n",
       "      <th>9</th>\n",
       "      <td>Victory Day CIS (May 9th) Event</td>\n",
       "      <td>CIS</td>\n",
       "      <td>2020-05-09</td>\n",
       "      <td>2020-05-11</td>\n",
       "    </tr>\n",
       "    <tr>\n",
       "      <th>10</th>\n",
       "      <td>CIS New Year Gift Lottery</td>\n",
       "      <td>CIS</td>\n",
       "      <td>2020-12-30</td>\n",
       "      <td>2021-01-07</td>\n",
       "    </tr>\n",
       "    <tr>\n",
       "      <th>11</th>\n",
       "      <td>Dragon Boat Festival Giveaway</td>\n",
       "      <td>APAC</td>\n",
       "      <td>2020-06-25</td>\n",
       "      <td>2020-07-01</td>\n",
       "    </tr>\n",
       "    <tr>\n",
       "      <th>12</th>\n",
       "      <td>Single's Day Gift Promo</td>\n",
       "      <td>APAC</td>\n",
       "      <td>2020-11-11</td>\n",
       "      <td>2020-11-12</td>\n",
       "    </tr>\n",
       "    <tr>\n",
       "      <th>13</th>\n",
       "      <td>Chinese Moon Festival</td>\n",
       "      <td>APAC</td>\n",
       "      <td>2020-10-01</td>\n",
       "      <td>2020-10-07</td>\n",
       "    </tr>\n",
       "  </tbody>\n",
       "</table>\n",
       "</div>"
      ],
      "text/plain": [
       "                                name                   regions   start_dt  \\\n",
       "0           Christmas&New Year Promo             EU, N.America 2020-12-25   \n",
       "1       St. Valentine's Day Giveaway  EU, CIS, APAC, N.America 2020-02-14   \n",
       "2             St. Patric's Day Promo             EU, N.America 2020-03-17   \n",
       "3                       Easter Promo  EU, CIS, APAC, N.America 2020-04-12   \n",
       "4                  4th of July Promo                 N.America 2020-07-04   \n",
       "5          Black Friday Ads Campaign  EU, CIS, APAC, N.America 2020-11-26   \n",
       "6             Chinese New Year Promo                      APAC 2020-01-25   \n",
       "7   Labor day (May 1st) Ads Campaign             EU, CIS, APAC 2020-05-01   \n",
       "8    International Women's Day Promo             EU, CIS, APAC 2020-03-08   \n",
       "9    Victory Day CIS (May 9th) Event                       CIS 2020-05-09   \n",
       "10         CIS New Year Gift Lottery                       CIS 2020-12-30   \n",
       "11     Dragon Boat Festival Giveaway                      APAC 2020-06-25   \n",
       "12           Single's Day Gift Promo                      APAC 2020-11-11   \n",
       "13             Chinese Moon Festival                      APAC 2020-10-01   \n",
       "\n",
       "    finish_dt  \n",
       "0  2021-01-03  \n",
       "1  2020-02-16  \n",
       "2  2020-03-19  \n",
       "3  2020-04-19  \n",
       "4  2020-07-11  \n",
       "5  2020-12-01  \n",
       "6  2020-02-07  \n",
       "7  2020-05-03  \n",
       "8  2020-03-10  \n",
       "9  2020-05-11  \n",
       "10 2021-01-07  \n",
       "11 2020-07-01  \n",
       "12 2020-11-12  \n",
       "13 2020-10-07  "
      ]
     },
     "execution_count": 27,
     "metadata": {},
     "output_type": "execute_result"
    }
   ],
   "source": [
    "promos"
   ]
  },
  {
   "cell_type": "markdown",
   "id": "23613b44",
   "metadata": {},
   "source": [
    "En el conteo de los valores en la columna ab_test para la interface_eu_test están muy similares las muestras pero para la cuestión de la prueba recomender_system_test es muy desigual, ya que el grupo A tiene 14215 eventos mientras que el grupo B solo cuenta con 3979 eventos, es decir solo el 28 % de datos en comparación con la muestra del otro grupo.<br>\n",
    "De igual manera dos promociones fueron lanzadas durante el periodo de prueba (Christmas&New Year Promo y CIS New Year Gift Lottery) pero según el análisis que vimos en la gráfica de eventos por día no se ve que haya afectación por estas promociónes ya que en estas fechas se ve en bajada la tendencia de los eventos por día."
   ]
  },
  {
   "cell_type": "markdown",
   "id": "5daa4e3f",
   "metadata": {},
   "source": [
    "### Evaluar los resultados de la prueba A/B:"
   ]
  },
  {
   "cell_type": "code",
   "execution_count": 28,
   "id": "34806ca4",
   "metadata": {},
   "outputs": [
    {
     "name": "stdout",
     "output_type": "stream",
     "text": [
      "Total de eventos en grupo de control: 51350\n",
      "         evento  total  interface  recommender  porcentaje\n",
      "0         login  22073      15771         6302       39.96\n",
      "1  product_page  14635      10544         4091       38.80\n",
      "2      purchase   7520       5631         1889       33.55\n",
      "3  product_cart   7122       5189         1933       37.25\n"
     ]
    }
   ],
   "source": [
    "# Creación de un embudo de eventos para el grupo de control (grupo A).\n",
    "\n",
    "total_eventos_control = muestraA['event_name'].count()\n",
    "print(f\"Total de eventos en grupo de control: {total_eventos_control}\")\n",
    "control = muestraA['event_name'].value_counts().reset_index()\n",
    "control.columns = ['evento', 'total']\n",
    "\n",
    "interface_control = muestraA[muestraA['ab_test'] == 'interface_eu_test']['event_name'].value_counts().reset_index()\n",
    "interface_control.columns = ['evento', 'interface']\n",
    "\n",
    "recommender_control = muestraA[muestraA['ab_test'] == 'recommender_system_test']['event_name'].value_counts().reset_index()\n",
    "recommender_control.columns = ['evento', 'recommender']\n",
    "\n",
    "control = pd.merge(control, interface_control, on = 'evento', how = 'left')\n",
    "control = pd.merge(control, recommender_control, on = 'evento', how = 'left')\n",
    "control['porcentaje'] = round((control['recommender'] / control['interface']) * 100, 2)\n",
    "\n",
    "print(control)"
   ]
  },
  {
   "cell_type": "code",
   "execution_count": 29,
   "id": "e0258b63",
   "metadata": {},
   "outputs": [
    {
     "name": "stdout",
     "output_type": "stream",
     "text": [
      "         evento  total  interface  recommender  porcentaje  conversion_total  \\\n",
      "0         login  22073      15771         6302       39.96            100.00   \n",
      "1  product_page  14635      10544         4091       38.80             66.30   \n",
      "2      purchase   7520       5631         1889       33.55             51.38   \n",
      "3  product_cart   7122       5189         1933       37.25             94.71   \n",
      "\n",
      "   conversion_interface  conversion_recommender  dif_porcentaje  \n",
      "0                100.00                  100.00            0.00  \n",
      "1                 66.86                   64.92           -1.94  \n",
      "2                 53.40                   46.17           -7.23  \n",
      "3                 92.15                  102.33           10.18  \n"
     ]
    }
   ],
   "source": [
    "# Calcular el % de conversion entre etapas\n",
    "control['conversion_total'] = round(control['total'] / control['total'].shift(1) * 100, 2)\n",
    "control['conversion_interface'] = round(control['interface'] / control['interface'].shift(1) * 100, 2)\n",
    "control['conversion_recommender'] = round(control['recommender'] / control['recommender'].shift(1) * 100, 2)\n",
    "\n",
    "# Rellenar el primer valor (NaN en la primera fila) con 100%\n",
    "control[['conversion_total', 'conversion_interface', 'conversion_recommender']] = control[[\n",
    "    'conversion_total', 'conversion_interface', 'conversion_recommender']].fillna(100)\n",
    "\n",
    "control['dif_porcentaje'] = control['conversion_recommender'] - control['conversion_interface']\n",
    "\n",
    "print(control)"
   ]
  },
  {
   "cell_type": "markdown",
   "id": "aa00769a",
   "metadata": {},
   "source": [
    "En el grupo de control la interface normal genero mejor conversión que la nueva interface con recomendaciones para los usuarios, ya que la conversión fue mayor en las etapas del embudo:<br>\n",
    "- En la etapa de product_page por 1.94 %. <br>\n",
    "- En purchase por 7.23 %.<br>\n",
    "<br>\n",
    "Solo en la etapa de product_cart el grupo de recomendación fue mejor por 10.18%."
   ]
  },
  {
   "cell_type": "code",
   "execution_count": 30,
   "id": "a6669490",
   "metadata": {},
   "outputs": [
    {
     "data": {
      "application/vnd.plotly.v1+json": {
       "config": {
        "plotlyServerURL": "https://plot.ly"
       },
       "data": [
        {
         "hovertemplate": "variable=conversion_interface<br>Número de eventos=%{x}<br>evento=%{y}<extra></extra>",
         "legendgroup": "conversion_interface",
         "marker": {
          "color": [
           "gold",
           "mediumturquoise",
           "darkorange",
           "lightgreen"
          ],
          "line": {
           "color": "lightgray",
           "width": 2
          }
         },
         "name": "conversion_interface",
         "orientation": "h",
         "showlegend": true,
         "type": "funnel",
         "x": [
          100,
          66.86,
          53.4,
          92.15
         ],
         "xaxis": "x",
         "y": [
          "login",
          "product_page",
          "purchase",
          "product_cart"
         ],
         "yaxis": "y"
        },
        {
         "hovertemplate": "variable=conversion_recommender<br>Número de eventos=%{x}<br>evento=%{y}<extra></extra>",
         "legendgroup": "conversion_recommender",
         "marker": {
          "color": [
           "red",
           "green",
           "white",
           "blue"
          ],
          "line": {
           "color": "lightgray",
           "width": 2
          }
         },
         "name": "conversion_recommender",
         "orientation": "h",
         "showlegend": true,
         "type": "funnel",
         "x": [
          100,
          64.92,
          46.17,
          102.33
         ],
         "xaxis": "x",
         "y": [
          "login",
          "product_page",
          "purchase",
          "product_cart"
         ],
         "yaxis": "y"
        }
       ],
       "layout": {
        "font": {
         "color": "white"
        },
        "legend": {
         "title": {
          "text": "variable"
         },
         "tracegroupgap": 0
        },
        "paper_bgcolor": "black",
        "plot_bgcolor": "black",
        "template": {
         "data": {
          "bar": [
           {
            "error_x": {
             "color": "#2a3f5f"
            },
            "error_y": {
             "color": "#2a3f5f"
            },
            "marker": {
             "line": {
              "color": "#E5ECF6",
              "width": 0.5
             },
             "pattern": {
              "fillmode": "overlay",
              "size": 10,
              "solidity": 0.2
             }
            },
            "type": "bar"
           }
          ],
          "barpolar": [
           {
            "marker": {
             "line": {
              "color": "#E5ECF6",
              "width": 0.5
             },
             "pattern": {
              "fillmode": "overlay",
              "size": 10,
              "solidity": 0.2
             }
            },
            "type": "barpolar"
           }
          ],
          "carpet": [
           {
            "aaxis": {
             "endlinecolor": "#2a3f5f",
             "gridcolor": "white",
             "linecolor": "white",
             "minorgridcolor": "white",
             "startlinecolor": "#2a3f5f"
            },
            "baxis": {
             "endlinecolor": "#2a3f5f",
             "gridcolor": "white",
             "linecolor": "white",
             "minorgridcolor": "white",
             "startlinecolor": "#2a3f5f"
            },
            "type": "carpet"
           }
          ],
          "choropleth": [
           {
            "colorbar": {
             "outlinewidth": 0,
             "ticks": ""
            },
            "type": "choropleth"
           }
          ],
          "contour": [
           {
            "colorbar": {
             "outlinewidth": 0,
             "ticks": ""
            },
            "colorscale": [
             [
              0,
              "#0d0887"
             ],
             [
              0.1111111111111111,
              "#46039f"
             ],
             [
              0.2222222222222222,
              "#7201a8"
             ],
             [
              0.3333333333333333,
              "#9c179e"
             ],
             [
              0.4444444444444444,
              "#bd3786"
             ],
             [
              0.5555555555555556,
              "#d8576b"
             ],
             [
              0.6666666666666666,
              "#ed7953"
             ],
             [
              0.7777777777777778,
              "#fb9f3a"
             ],
             [
              0.8888888888888888,
              "#fdca26"
             ],
             [
              1,
              "#f0f921"
             ]
            ],
            "type": "contour"
           }
          ],
          "contourcarpet": [
           {
            "colorbar": {
             "outlinewidth": 0,
             "ticks": ""
            },
            "type": "contourcarpet"
           }
          ],
          "heatmap": [
           {
            "colorbar": {
             "outlinewidth": 0,
             "ticks": ""
            },
            "colorscale": [
             [
              0,
              "#0d0887"
             ],
             [
              0.1111111111111111,
              "#46039f"
             ],
             [
              0.2222222222222222,
              "#7201a8"
             ],
             [
              0.3333333333333333,
              "#9c179e"
             ],
             [
              0.4444444444444444,
              "#bd3786"
             ],
             [
              0.5555555555555556,
              "#d8576b"
             ],
             [
              0.6666666666666666,
              "#ed7953"
             ],
             [
              0.7777777777777778,
              "#fb9f3a"
             ],
             [
              0.8888888888888888,
              "#fdca26"
             ],
             [
              1,
              "#f0f921"
             ]
            ],
            "type": "heatmap"
           }
          ],
          "heatmapgl": [
           {
            "colorbar": {
             "outlinewidth": 0,
             "ticks": ""
            },
            "colorscale": [
             [
              0,
              "#0d0887"
             ],
             [
              0.1111111111111111,
              "#46039f"
             ],
             [
              0.2222222222222222,
              "#7201a8"
             ],
             [
              0.3333333333333333,
              "#9c179e"
             ],
             [
              0.4444444444444444,
              "#bd3786"
             ],
             [
              0.5555555555555556,
              "#d8576b"
             ],
             [
              0.6666666666666666,
              "#ed7953"
             ],
             [
              0.7777777777777778,
              "#fb9f3a"
             ],
             [
              0.8888888888888888,
              "#fdca26"
             ],
             [
              1,
              "#f0f921"
             ]
            ],
            "type": "heatmapgl"
           }
          ],
          "histogram": [
           {
            "marker": {
             "pattern": {
              "fillmode": "overlay",
              "size": 10,
              "solidity": 0.2
             }
            },
            "type": "histogram"
           }
          ],
          "histogram2d": [
           {
            "colorbar": {
             "outlinewidth": 0,
             "ticks": ""
            },
            "colorscale": [
             [
              0,
              "#0d0887"
             ],
             [
              0.1111111111111111,
              "#46039f"
             ],
             [
              0.2222222222222222,
              "#7201a8"
             ],
             [
              0.3333333333333333,
              "#9c179e"
             ],
             [
              0.4444444444444444,
              "#bd3786"
             ],
             [
              0.5555555555555556,
              "#d8576b"
             ],
             [
              0.6666666666666666,
              "#ed7953"
             ],
             [
              0.7777777777777778,
              "#fb9f3a"
             ],
             [
              0.8888888888888888,
              "#fdca26"
             ],
             [
              1,
              "#f0f921"
             ]
            ],
            "type": "histogram2d"
           }
          ],
          "histogram2dcontour": [
           {
            "colorbar": {
             "outlinewidth": 0,
             "ticks": ""
            },
            "colorscale": [
             [
              0,
              "#0d0887"
             ],
             [
              0.1111111111111111,
              "#46039f"
             ],
             [
              0.2222222222222222,
              "#7201a8"
             ],
             [
              0.3333333333333333,
              "#9c179e"
             ],
             [
              0.4444444444444444,
              "#bd3786"
             ],
             [
              0.5555555555555556,
              "#d8576b"
             ],
             [
              0.6666666666666666,
              "#ed7953"
             ],
             [
              0.7777777777777778,
              "#fb9f3a"
             ],
             [
              0.8888888888888888,
              "#fdca26"
             ],
             [
              1,
              "#f0f921"
             ]
            ],
            "type": "histogram2dcontour"
           }
          ],
          "mesh3d": [
           {
            "colorbar": {
             "outlinewidth": 0,
             "ticks": ""
            },
            "type": "mesh3d"
           }
          ],
          "parcoords": [
           {
            "line": {
             "colorbar": {
              "outlinewidth": 0,
              "ticks": ""
             }
            },
            "type": "parcoords"
           }
          ],
          "pie": [
           {
            "automargin": true,
            "type": "pie"
           }
          ],
          "scatter": [
           {
            "fillpattern": {
             "fillmode": "overlay",
             "size": 10,
             "solidity": 0.2
            },
            "type": "scatter"
           }
          ],
          "scatter3d": [
           {
            "line": {
             "colorbar": {
              "outlinewidth": 0,
              "ticks": ""
             }
            },
            "marker": {
             "colorbar": {
              "outlinewidth": 0,
              "ticks": ""
             }
            },
            "type": "scatter3d"
           }
          ],
          "scattercarpet": [
           {
            "marker": {
             "colorbar": {
              "outlinewidth": 0,
              "ticks": ""
             }
            },
            "type": "scattercarpet"
           }
          ],
          "scattergeo": [
           {
            "marker": {
             "colorbar": {
              "outlinewidth": 0,
              "ticks": ""
             }
            },
            "type": "scattergeo"
           }
          ],
          "scattergl": [
           {
            "marker": {
             "colorbar": {
              "outlinewidth": 0,
              "ticks": ""
             }
            },
            "type": "scattergl"
           }
          ],
          "scattermapbox": [
           {
            "marker": {
             "colorbar": {
              "outlinewidth": 0,
              "ticks": ""
             }
            },
            "type": "scattermapbox"
           }
          ],
          "scatterpolar": [
           {
            "marker": {
             "colorbar": {
              "outlinewidth": 0,
              "ticks": ""
             }
            },
            "type": "scatterpolar"
           }
          ],
          "scatterpolargl": [
           {
            "marker": {
             "colorbar": {
              "outlinewidth": 0,
              "ticks": ""
             }
            },
            "type": "scatterpolargl"
           }
          ],
          "scatterternary": [
           {
            "marker": {
             "colorbar": {
              "outlinewidth": 0,
              "ticks": ""
             }
            },
            "type": "scatterternary"
           }
          ],
          "surface": [
           {
            "colorbar": {
             "outlinewidth": 0,
             "ticks": ""
            },
            "colorscale": [
             [
              0,
              "#0d0887"
             ],
             [
              0.1111111111111111,
              "#46039f"
             ],
             [
              0.2222222222222222,
              "#7201a8"
             ],
             [
              0.3333333333333333,
              "#9c179e"
             ],
             [
              0.4444444444444444,
              "#bd3786"
             ],
             [
              0.5555555555555556,
              "#d8576b"
             ],
             [
              0.6666666666666666,
              "#ed7953"
             ],
             [
              0.7777777777777778,
              "#fb9f3a"
             ],
             [
              0.8888888888888888,
              "#fdca26"
             ],
             [
              1,
              "#f0f921"
             ]
            ],
            "type": "surface"
           }
          ],
          "table": [
           {
            "cells": {
             "fill": {
              "color": "#EBF0F8"
             },
             "line": {
              "color": "white"
             }
            },
            "header": {
             "fill": {
              "color": "#C8D4E3"
             },
             "line": {
              "color": "white"
             }
            },
            "type": "table"
           }
          ]
         },
         "layout": {
          "annotationdefaults": {
           "arrowcolor": "#2a3f5f",
           "arrowhead": 0,
           "arrowwidth": 1
          },
          "autotypenumbers": "strict",
          "coloraxis": {
           "colorbar": {
            "outlinewidth": 0,
            "ticks": ""
           }
          },
          "colorscale": {
           "diverging": [
            [
             0,
             "#8e0152"
            ],
            [
             0.1,
             "#c51b7d"
            ],
            [
             0.2,
             "#de77ae"
            ],
            [
             0.3,
             "#f1b6da"
            ],
            [
             0.4,
             "#fde0ef"
            ],
            [
             0.5,
             "#f7f7f7"
            ],
            [
             0.6,
             "#e6f5d0"
            ],
            [
             0.7,
             "#b8e186"
            ],
            [
             0.8,
             "#7fbc41"
            ],
            [
             0.9,
             "#4d9221"
            ],
            [
             1,
             "#276419"
            ]
           ],
           "sequential": [
            [
             0,
             "#0d0887"
            ],
            [
             0.1111111111111111,
             "#46039f"
            ],
            [
             0.2222222222222222,
             "#7201a8"
            ],
            [
             0.3333333333333333,
             "#9c179e"
            ],
            [
             0.4444444444444444,
             "#bd3786"
            ],
            [
             0.5555555555555556,
             "#d8576b"
            ],
            [
             0.6666666666666666,
             "#ed7953"
            ],
            [
             0.7777777777777778,
             "#fb9f3a"
            ],
            [
             0.8888888888888888,
             "#fdca26"
            ],
            [
             1,
             "#f0f921"
            ]
           ],
           "sequentialminus": [
            [
             0,
             "#0d0887"
            ],
            [
             0.1111111111111111,
             "#46039f"
            ],
            [
             0.2222222222222222,
             "#7201a8"
            ],
            [
             0.3333333333333333,
             "#9c179e"
            ],
            [
             0.4444444444444444,
             "#bd3786"
            ],
            [
             0.5555555555555556,
             "#d8576b"
            ],
            [
             0.6666666666666666,
             "#ed7953"
            ],
            [
             0.7777777777777778,
             "#fb9f3a"
            ],
            [
             0.8888888888888888,
             "#fdca26"
            ],
            [
             1,
             "#f0f921"
            ]
           ]
          },
          "colorway": [
           "#636efa",
           "#EF553B",
           "#00cc96",
           "#ab63fa",
           "#FFA15A",
           "#19d3f3",
           "#FF6692",
           "#B6E880",
           "#FF97FF",
           "#FECB52"
          ],
          "font": {
           "color": "#2a3f5f"
          },
          "geo": {
           "bgcolor": "white",
           "lakecolor": "white",
           "landcolor": "#E5ECF6",
           "showlakes": true,
           "showland": true,
           "subunitcolor": "white"
          },
          "hoverlabel": {
           "align": "left"
          },
          "hovermode": "closest",
          "mapbox": {
           "style": "light"
          },
          "paper_bgcolor": "white",
          "plot_bgcolor": "#E5ECF6",
          "polar": {
           "angularaxis": {
            "gridcolor": "white",
            "linecolor": "white",
            "ticks": ""
           },
           "bgcolor": "#E5ECF6",
           "radialaxis": {
            "gridcolor": "white",
            "linecolor": "white",
            "ticks": ""
           }
          },
          "scene": {
           "xaxis": {
            "backgroundcolor": "#E5ECF6",
            "gridcolor": "white",
            "gridwidth": 2,
            "linecolor": "white",
            "showbackground": true,
            "ticks": "",
            "zerolinecolor": "white"
           },
           "yaxis": {
            "backgroundcolor": "#E5ECF6",
            "gridcolor": "white",
            "gridwidth": 2,
            "linecolor": "white",
            "showbackground": true,
            "ticks": "",
            "zerolinecolor": "white"
           },
           "zaxis": {
            "backgroundcolor": "#E5ECF6",
            "gridcolor": "white",
            "gridwidth": 2,
            "linecolor": "white",
            "showbackground": true,
            "ticks": "",
            "zerolinecolor": "white"
           }
          },
          "shapedefaults": {
           "line": {
            "color": "#2a3f5f"
           }
          },
          "ternary": {
           "aaxis": {
            "gridcolor": "white",
            "linecolor": "white",
            "ticks": ""
           },
           "baxis": {
            "gridcolor": "white",
            "linecolor": "white",
            "ticks": ""
           },
           "bgcolor": "#E5ECF6",
           "caxis": {
            "gridcolor": "white",
            "linecolor": "white",
            "ticks": ""
           }
          },
          "title": {
           "x": 0.05
          },
          "xaxis": {
           "automargin": true,
           "gridcolor": "white",
           "linecolor": "white",
           "ticks": "",
           "title": {
            "standoff": 15
           },
           "zerolinecolor": "white",
           "zerolinewidth": 2
          },
          "yaxis": {
           "automargin": true,
           "gridcolor": "white",
           "linecolor": "white",
           "ticks": "",
           "title": {
            "standoff": 15
           },
           "zerolinecolor": "white",
           "zerolinewidth": 2
          }
         }
        },
        "title": {
         "text": "Embudo de eventos en grupo de control"
        },
        "xaxis": {
         "anchor": "y",
         "domain": [
          0,
          1
         ],
         "title": {
          "text": "Número de eventos"
         }
        },
        "yaxis": {
         "anchor": "x",
         "domain": [
          0,
          1
         ],
         "title": {
          "text": "evento"
         }
        }
       }
      }
     },
     "metadata": {},
     "output_type": "display_data"
    }
   ],
   "source": [
    "fig2 = px.funnel(control,\n",
    "                x = ['conversion_interface', 'conversion_recommender'],\n",
    "                y = 'evento',\n",
    "                title = 'Embudo de eventos en grupo de control',\n",
    "                labels = {'index': 'evento', 'value': 'Número de eventos'}\n",
    ")\n",
    "\n",
    "colors2 = ['gold', 'mediumturquoise', 'darkorange', 'lightgreen']\n",
    "colors21 = ['red', 'green', 'white', 'blue']\n",
    "\n",
    "fig2.data[0].marker.color = color = colors2[:len(fig2.data[0].y)]\n",
    "fig2.data[0].marker.line.width = 2\n",
    "fig2.data[0].marker.line.color = 'lightgray'\n",
    "\n",
    "fig2.data[1].marker.color = color = colors21[:len(fig2.data[0].y)]\n",
    "fig2.data[1].marker.line.width = 2\n",
    "fig2.data[1].marker.line.color = 'lightgray'\n",
    "\n",
    "fig2.update_layout(\n",
    "    paper_bgcolor = 'black',\n",
    "    plot_bgcolor = 'black',\n",
    "    font_color = 'white'\n",
    ")                \n",
    "fig2.show()"
   ]
  },
  {
   "cell_type": "code",
   "execution_count": 31,
   "id": "3087e418",
   "metadata": {},
   "outputs": [
    {
     "name": "stdout",
     "output_type": "stream",
     "text": [
      "Total de eventos en grupo de prueba: 40058\n",
      "         evento  total  interface  recommender  porcentaje\n",
      "0         login  17424      15493         1931       12.46\n",
      "1  product_page  11150      10127         1023       10.10\n",
      "2  product_cart   5790       5266          524        9.95\n",
      "3      purchase   5694       5193          501        9.65\n"
     ]
    }
   ],
   "source": [
    "# Creación de un embudo de eventos para el grupo de prueba (grupo B).\n",
    "\n",
    "total_eventos_prueba = muestraB['event_name'].count()\n",
    "print(f\"Total de eventos en grupo de prueba: {total_eventos_prueba}\")\n",
    "prueba = muestraB['event_name'].value_counts().reset_index()\n",
    "prueba.columns = ['evento', 'total']\n",
    "\n",
    "interface_prueba = muestraB[muestraB['ab_test'] == 'interface_eu_test']['event_name'].value_counts().reset_index()\n",
    "interface_prueba.columns = ['evento', 'interface']\n",
    "\n",
    "recommender_prueba = muestraB[muestraB['ab_test'] == 'recommender_system_test']['event_name'].value_counts().reset_index()\n",
    "recommender_prueba.columns = ['evento', 'recommender']\n",
    "\n",
    "prueba = pd.merge(prueba, interface_prueba, on = 'evento', how = 'left')\n",
    "prueba = pd.merge(prueba, recommender_prueba, on = 'evento', how = 'left')\n",
    "prueba['porcentaje'] = round((prueba['recommender'] / prueba['interface']) * 100, 2)\n",
    "\n",
    "print(prueba)"
   ]
  },
  {
   "cell_type": "code",
   "execution_count": 32,
   "id": "95e1186c",
   "metadata": {},
   "outputs": [
    {
     "name": "stdout",
     "output_type": "stream",
     "text": [
      "         evento  total  interface  recommender  porcentaje  conversion_total  \\\n",
      "0         login  17424      15493         1931       12.46            100.00   \n",
      "1  product_page  11150      10127         1023       10.10             63.99   \n",
      "2  product_cart   5790       5266          524        9.95             51.93   \n",
      "3      purchase   5694       5193          501        9.65             98.34   \n",
      "\n",
      "   conversion_interface  conversion_recommender  dif_porcentaje  \n",
      "0                100.00                  100.00            0.00  \n",
      "1                 65.37                   52.98          -12.39  \n",
      "2                 52.00                   51.22           -0.78  \n",
      "3                 98.61                   95.61           -3.00  \n"
     ]
    }
   ],
   "source": [
    "# Calcular el % de conversión entre etapas\n",
    "prueba['conversion_total'] = round(prueba['total'] / prueba['total'].shift(1) * 100, 2)\n",
    "prueba['conversion_interface'] = round(prueba['interface'] / prueba['interface'].shift(1) * 100, 2)\n",
    "prueba['conversion_recommender'] = round(prueba['recommender'] / prueba['recommender'].shift(1) * 100, 2)\n",
    "\n",
    "# Rellenar el primer valor (NaN en la primera fila) con 100%\n",
    "prueba[['conversion_total', 'conversion_interface', 'conversion_recommender']] = prueba[[\n",
    "    'conversion_total', 'conversion_interface', 'conversion_recommender']].fillna(100)\n",
    "\n",
    "prueba['dif_porcentaje'] = prueba['conversion_recommender'] - prueba['conversion_interface']\n",
    "\n",
    "print(prueba)"
   ]
  },
  {
   "cell_type": "markdown",
   "id": "7ad00d80",
   "metadata": {},
   "source": [
    "En el grupo de prueba la interface normal genero mejor conversión que la nueva interface con recomendaciones para los usuarios, ya que la conversión fue mayor en todas las etapas del embudo:<br>\n",
    "- En la etapa de product_page por 12.39 %. <br>\n",
    "- En product_cart por 0.78 %.<br>\n",
    "- En purchase por 3.00 %."
   ]
  },
  {
   "cell_type": "code",
   "execution_count": 33,
   "id": "91efe545",
   "metadata": {},
   "outputs": [
    {
     "data": {
      "application/vnd.plotly.v1+json": {
       "config": {
        "plotlyServerURL": "https://plot.ly"
       },
       "data": [
        {
         "hovertemplate": "variable=conversion_interface<br>Número de eventos=%{x}<br>evento=%{y}<extra></extra>",
         "legendgroup": "conversion_interface",
         "marker": {
          "color": [
           "gold",
           "mediumturquoise",
           "darkorange",
           "lightgreen"
          ],
          "line": {
           "color": "lightgray",
           "width": 2
          }
         },
         "name": "conversion_interface",
         "orientation": "h",
         "showlegend": true,
         "type": "funnel",
         "x": [
          100,
          65.37,
          52,
          98.61
         ],
         "xaxis": "x",
         "y": [
          "login",
          "product_page",
          "product_cart",
          "purchase"
         ],
         "yaxis": "y"
        },
        {
         "hovertemplate": "variable=conversion_recommender<br>Número de eventos=%{x}<br>evento=%{y}<extra></extra>",
         "legendgroup": "conversion_recommender",
         "marker": {
          "color": [
           "red",
           "green",
           "white",
           "blue"
          ],
          "line": {
           "color": "lightgray",
           "width": 2
          }
         },
         "name": "conversion_recommender",
         "orientation": "h",
         "showlegend": true,
         "type": "funnel",
         "x": [
          100,
          52.98,
          51.22,
          95.61
         ],
         "xaxis": "x",
         "y": [
          "login",
          "product_page",
          "product_cart",
          "purchase"
         ],
         "yaxis": "y"
        }
       ],
       "layout": {
        "font": {
         "color": "white"
        },
        "legend": {
         "title": {
          "text": "variable"
         },
         "tracegroupgap": 0
        },
        "paper_bgcolor": "black",
        "plot_bgcolor": "black",
        "template": {
         "data": {
          "bar": [
           {
            "error_x": {
             "color": "#2a3f5f"
            },
            "error_y": {
             "color": "#2a3f5f"
            },
            "marker": {
             "line": {
              "color": "#E5ECF6",
              "width": 0.5
             },
             "pattern": {
              "fillmode": "overlay",
              "size": 10,
              "solidity": 0.2
             }
            },
            "type": "bar"
           }
          ],
          "barpolar": [
           {
            "marker": {
             "line": {
              "color": "#E5ECF6",
              "width": 0.5
             },
             "pattern": {
              "fillmode": "overlay",
              "size": 10,
              "solidity": 0.2
             }
            },
            "type": "barpolar"
           }
          ],
          "carpet": [
           {
            "aaxis": {
             "endlinecolor": "#2a3f5f",
             "gridcolor": "white",
             "linecolor": "white",
             "minorgridcolor": "white",
             "startlinecolor": "#2a3f5f"
            },
            "baxis": {
             "endlinecolor": "#2a3f5f",
             "gridcolor": "white",
             "linecolor": "white",
             "minorgridcolor": "white",
             "startlinecolor": "#2a3f5f"
            },
            "type": "carpet"
           }
          ],
          "choropleth": [
           {
            "colorbar": {
             "outlinewidth": 0,
             "ticks": ""
            },
            "type": "choropleth"
           }
          ],
          "contour": [
           {
            "colorbar": {
             "outlinewidth": 0,
             "ticks": ""
            },
            "colorscale": [
             [
              0,
              "#0d0887"
             ],
             [
              0.1111111111111111,
              "#46039f"
             ],
             [
              0.2222222222222222,
              "#7201a8"
             ],
             [
              0.3333333333333333,
              "#9c179e"
             ],
             [
              0.4444444444444444,
              "#bd3786"
             ],
             [
              0.5555555555555556,
              "#d8576b"
             ],
             [
              0.6666666666666666,
              "#ed7953"
             ],
             [
              0.7777777777777778,
              "#fb9f3a"
             ],
             [
              0.8888888888888888,
              "#fdca26"
             ],
             [
              1,
              "#f0f921"
             ]
            ],
            "type": "contour"
           }
          ],
          "contourcarpet": [
           {
            "colorbar": {
             "outlinewidth": 0,
             "ticks": ""
            },
            "type": "contourcarpet"
           }
          ],
          "heatmap": [
           {
            "colorbar": {
             "outlinewidth": 0,
             "ticks": ""
            },
            "colorscale": [
             [
              0,
              "#0d0887"
             ],
             [
              0.1111111111111111,
              "#46039f"
             ],
             [
              0.2222222222222222,
              "#7201a8"
             ],
             [
              0.3333333333333333,
              "#9c179e"
             ],
             [
              0.4444444444444444,
              "#bd3786"
             ],
             [
              0.5555555555555556,
              "#d8576b"
             ],
             [
              0.6666666666666666,
              "#ed7953"
             ],
             [
              0.7777777777777778,
              "#fb9f3a"
             ],
             [
              0.8888888888888888,
              "#fdca26"
             ],
             [
              1,
              "#f0f921"
             ]
            ],
            "type": "heatmap"
           }
          ],
          "heatmapgl": [
           {
            "colorbar": {
             "outlinewidth": 0,
             "ticks": ""
            },
            "colorscale": [
             [
              0,
              "#0d0887"
             ],
             [
              0.1111111111111111,
              "#46039f"
             ],
             [
              0.2222222222222222,
              "#7201a8"
             ],
             [
              0.3333333333333333,
              "#9c179e"
             ],
             [
              0.4444444444444444,
              "#bd3786"
             ],
             [
              0.5555555555555556,
              "#d8576b"
             ],
             [
              0.6666666666666666,
              "#ed7953"
             ],
             [
              0.7777777777777778,
              "#fb9f3a"
             ],
             [
              0.8888888888888888,
              "#fdca26"
             ],
             [
              1,
              "#f0f921"
             ]
            ],
            "type": "heatmapgl"
           }
          ],
          "histogram": [
           {
            "marker": {
             "pattern": {
              "fillmode": "overlay",
              "size": 10,
              "solidity": 0.2
             }
            },
            "type": "histogram"
           }
          ],
          "histogram2d": [
           {
            "colorbar": {
             "outlinewidth": 0,
             "ticks": ""
            },
            "colorscale": [
             [
              0,
              "#0d0887"
             ],
             [
              0.1111111111111111,
              "#46039f"
             ],
             [
              0.2222222222222222,
              "#7201a8"
             ],
             [
              0.3333333333333333,
              "#9c179e"
             ],
             [
              0.4444444444444444,
              "#bd3786"
             ],
             [
              0.5555555555555556,
              "#d8576b"
             ],
             [
              0.6666666666666666,
              "#ed7953"
             ],
             [
              0.7777777777777778,
              "#fb9f3a"
             ],
             [
              0.8888888888888888,
              "#fdca26"
             ],
             [
              1,
              "#f0f921"
             ]
            ],
            "type": "histogram2d"
           }
          ],
          "histogram2dcontour": [
           {
            "colorbar": {
             "outlinewidth": 0,
             "ticks": ""
            },
            "colorscale": [
             [
              0,
              "#0d0887"
             ],
             [
              0.1111111111111111,
              "#46039f"
             ],
             [
              0.2222222222222222,
              "#7201a8"
             ],
             [
              0.3333333333333333,
              "#9c179e"
             ],
             [
              0.4444444444444444,
              "#bd3786"
             ],
             [
              0.5555555555555556,
              "#d8576b"
             ],
             [
              0.6666666666666666,
              "#ed7953"
             ],
             [
              0.7777777777777778,
              "#fb9f3a"
             ],
             [
              0.8888888888888888,
              "#fdca26"
             ],
             [
              1,
              "#f0f921"
             ]
            ],
            "type": "histogram2dcontour"
           }
          ],
          "mesh3d": [
           {
            "colorbar": {
             "outlinewidth": 0,
             "ticks": ""
            },
            "type": "mesh3d"
           }
          ],
          "parcoords": [
           {
            "line": {
             "colorbar": {
              "outlinewidth": 0,
              "ticks": ""
             }
            },
            "type": "parcoords"
           }
          ],
          "pie": [
           {
            "automargin": true,
            "type": "pie"
           }
          ],
          "scatter": [
           {
            "fillpattern": {
             "fillmode": "overlay",
             "size": 10,
             "solidity": 0.2
            },
            "type": "scatter"
           }
          ],
          "scatter3d": [
           {
            "line": {
             "colorbar": {
              "outlinewidth": 0,
              "ticks": ""
             }
            },
            "marker": {
             "colorbar": {
              "outlinewidth": 0,
              "ticks": ""
             }
            },
            "type": "scatter3d"
           }
          ],
          "scattercarpet": [
           {
            "marker": {
             "colorbar": {
              "outlinewidth": 0,
              "ticks": ""
             }
            },
            "type": "scattercarpet"
           }
          ],
          "scattergeo": [
           {
            "marker": {
             "colorbar": {
              "outlinewidth": 0,
              "ticks": ""
             }
            },
            "type": "scattergeo"
           }
          ],
          "scattergl": [
           {
            "marker": {
             "colorbar": {
              "outlinewidth": 0,
              "ticks": ""
             }
            },
            "type": "scattergl"
           }
          ],
          "scattermapbox": [
           {
            "marker": {
             "colorbar": {
              "outlinewidth": 0,
              "ticks": ""
             }
            },
            "type": "scattermapbox"
           }
          ],
          "scatterpolar": [
           {
            "marker": {
             "colorbar": {
              "outlinewidth": 0,
              "ticks": ""
             }
            },
            "type": "scatterpolar"
           }
          ],
          "scatterpolargl": [
           {
            "marker": {
             "colorbar": {
              "outlinewidth": 0,
              "ticks": ""
             }
            },
            "type": "scatterpolargl"
           }
          ],
          "scatterternary": [
           {
            "marker": {
             "colorbar": {
              "outlinewidth": 0,
              "ticks": ""
             }
            },
            "type": "scatterternary"
           }
          ],
          "surface": [
           {
            "colorbar": {
             "outlinewidth": 0,
             "ticks": ""
            },
            "colorscale": [
             [
              0,
              "#0d0887"
             ],
             [
              0.1111111111111111,
              "#46039f"
             ],
             [
              0.2222222222222222,
              "#7201a8"
             ],
             [
              0.3333333333333333,
              "#9c179e"
             ],
             [
              0.4444444444444444,
              "#bd3786"
             ],
             [
              0.5555555555555556,
              "#d8576b"
             ],
             [
              0.6666666666666666,
              "#ed7953"
             ],
             [
              0.7777777777777778,
              "#fb9f3a"
             ],
             [
              0.8888888888888888,
              "#fdca26"
             ],
             [
              1,
              "#f0f921"
             ]
            ],
            "type": "surface"
           }
          ],
          "table": [
           {
            "cells": {
             "fill": {
              "color": "#EBF0F8"
             },
             "line": {
              "color": "white"
             }
            },
            "header": {
             "fill": {
              "color": "#C8D4E3"
             },
             "line": {
              "color": "white"
             }
            },
            "type": "table"
           }
          ]
         },
         "layout": {
          "annotationdefaults": {
           "arrowcolor": "#2a3f5f",
           "arrowhead": 0,
           "arrowwidth": 1
          },
          "autotypenumbers": "strict",
          "coloraxis": {
           "colorbar": {
            "outlinewidth": 0,
            "ticks": ""
           }
          },
          "colorscale": {
           "diverging": [
            [
             0,
             "#8e0152"
            ],
            [
             0.1,
             "#c51b7d"
            ],
            [
             0.2,
             "#de77ae"
            ],
            [
             0.3,
             "#f1b6da"
            ],
            [
             0.4,
             "#fde0ef"
            ],
            [
             0.5,
             "#f7f7f7"
            ],
            [
             0.6,
             "#e6f5d0"
            ],
            [
             0.7,
             "#b8e186"
            ],
            [
             0.8,
             "#7fbc41"
            ],
            [
             0.9,
             "#4d9221"
            ],
            [
             1,
             "#276419"
            ]
           ],
           "sequential": [
            [
             0,
             "#0d0887"
            ],
            [
             0.1111111111111111,
             "#46039f"
            ],
            [
             0.2222222222222222,
             "#7201a8"
            ],
            [
             0.3333333333333333,
             "#9c179e"
            ],
            [
             0.4444444444444444,
             "#bd3786"
            ],
            [
             0.5555555555555556,
             "#d8576b"
            ],
            [
             0.6666666666666666,
             "#ed7953"
            ],
            [
             0.7777777777777778,
             "#fb9f3a"
            ],
            [
             0.8888888888888888,
             "#fdca26"
            ],
            [
             1,
             "#f0f921"
            ]
           ],
           "sequentialminus": [
            [
             0,
             "#0d0887"
            ],
            [
             0.1111111111111111,
             "#46039f"
            ],
            [
             0.2222222222222222,
             "#7201a8"
            ],
            [
             0.3333333333333333,
             "#9c179e"
            ],
            [
             0.4444444444444444,
             "#bd3786"
            ],
            [
             0.5555555555555556,
             "#d8576b"
            ],
            [
             0.6666666666666666,
             "#ed7953"
            ],
            [
             0.7777777777777778,
             "#fb9f3a"
            ],
            [
             0.8888888888888888,
             "#fdca26"
            ],
            [
             1,
             "#f0f921"
            ]
           ]
          },
          "colorway": [
           "#636efa",
           "#EF553B",
           "#00cc96",
           "#ab63fa",
           "#FFA15A",
           "#19d3f3",
           "#FF6692",
           "#B6E880",
           "#FF97FF",
           "#FECB52"
          ],
          "font": {
           "color": "#2a3f5f"
          },
          "geo": {
           "bgcolor": "white",
           "lakecolor": "white",
           "landcolor": "#E5ECF6",
           "showlakes": true,
           "showland": true,
           "subunitcolor": "white"
          },
          "hoverlabel": {
           "align": "left"
          },
          "hovermode": "closest",
          "mapbox": {
           "style": "light"
          },
          "paper_bgcolor": "white",
          "plot_bgcolor": "#E5ECF6",
          "polar": {
           "angularaxis": {
            "gridcolor": "white",
            "linecolor": "white",
            "ticks": ""
           },
           "bgcolor": "#E5ECF6",
           "radialaxis": {
            "gridcolor": "white",
            "linecolor": "white",
            "ticks": ""
           }
          },
          "scene": {
           "xaxis": {
            "backgroundcolor": "#E5ECF6",
            "gridcolor": "white",
            "gridwidth": 2,
            "linecolor": "white",
            "showbackground": true,
            "ticks": "",
            "zerolinecolor": "white"
           },
           "yaxis": {
            "backgroundcolor": "#E5ECF6",
            "gridcolor": "white",
            "gridwidth": 2,
            "linecolor": "white",
            "showbackground": true,
            "ticks": "",
            "zerolinecolor": "white"
           },
           "zaxis": {
            "backgroundcolor": "#E5ECF6",
            "gridcolor": "white",
            "gridwidth": 2,
            "linecolor": "white",
            "showbackground": true,
            "ticks": "",
            "zerolinecolor": "white"
           }
          },
          "shapedefaults": {
           "line": {
            "color": "#2a3f5f"
           }
          },
          "ternary": {
           "aaxis": {
            "gridcolor": "white",
            "linecolor": "white",
            "ticks": ""
           },
           "baxis": {
            "gridcolor": "white",
            "linecolor": "white",
            "ticks": ""
           },
           "bgcolor": "#E5ECF6",
           "caxis": {
            "gridcolor": "white",
            "linecolor": "white",
            "ticks": ""
           }
          },
          "title": {
           "x": 0.05
          },
          "xaxis": {
           "automargin": true,
           "gridcolor": "white",
           "linecolor": "white",
           "ticks": "",
           "title": {
            "standoff": 15
           },
           "zerolinecolor": "white",
           "zerolinewidth": 2
          },
          "yaxis": {
           "automargin": true,
           "gridcolor": "white",
           "linecolor": "white",
           "ticks": "",
           "title": {
            "standoff": 15
           },
           "zerolinecolor": "white",
           "zerolinewidth": 2
          }
         }
        },
        "title": {
         "text": "Embudo de eventos en grupo de prueba"
        },
        "xaxis": {
         "anchor": "y",
         "domain": [
          0,
          1
         ],
         "title": {
          "text": "Número de eventos"
         }
        },
        "yaxis": {
         "anchor": "x",
         "domain": [
          0,
          1
         ],
         "title": {
          "text": "evento"
         }
        }
       }
      }
     },
     "metadata": {},
     "output_type": "display_data"
    }
   ],
   "source": [
    "fig3 = px.funnel(prueba,\n",
    "                x = ['conversion_interface', 'conversion_recommender'],\n",
    "                y = 'evento',\n",
    "                title = 'Embudo de eventos en grupo de prueba',\n",
    "                labels = {'index': 'evento', 'value': 'Número de eventos'}\n",
    ")\n",
    "\n",
    "colors2 = ['gold', 'mediumturquoise', 'darkorange', 'lightgreen']\n",
    "colors21 = ['red', 'green', 'white', 'blue']\n",
    "\n",
    "fig3.data[0].marker.color = color = colors2[:len(fig3.data[0].y)]\n",
    "fig3.data[0].marker.line.width = 2\n",
    "fig3.data[0].marker.line.color = 'lightgray'\n",
    "\n",
    "fig3.data[1].marker.color = color = colors21[:len(fig3.data[0].y)]\n",
    "fig3.data[1].marker.line.width = 2\n",
    "fig3.data[1].marker.line.color = 'lightgray'\n",
    "\n",
    "fig3.update_layout(\n",
    "    paper_bgcolor = 'black',\n",
    "    plot_bgcolor = 'black',\n",
    "    font_color = 'white'\n",
    ")                \n",
    "fig3.show()"
   ]
  },
  {
   "cell_type": "code",
   "execution_count": 34,
   "id": "bad66dd5",
   "metadata": {},
   "outputs": [
    {
     "name": "stdout",
     "output_type": "stream",
     "text": [
      "Estadistico Z: 1.6497\n",
      "Valor P: 0.0990\n",
      "No se rechaza la hipótesis nula: no hay una diferencia significativa entre los grupos.\n"
     ]
    }
   ],
   "source": [
    "# Usuarios que realizaron compras con la interfaz de recomendación.\n",
    "exitos = [control['recommender'][3], prueba['recommender'][3]]\n",
    "\n",
    "# Total de usuarios que se logearon en la interfaz de recomendación para cada grupo.\n",
    "total = [control['recommender'].sum(), prueba['recommender'].sum()]\n",
    "\n",
    "# Prueba Z para verificar proporciones.\n",
    "z_stat, p_value = proportions_ztest(exitos, total)\n",
    "print(f\"Estadistico Z: {z_stat:.4f}\")\n",
    "print(f\"Valor P: {p_value:.4f}\")\n",
    "\n",
    "if p_value < 0.05:\n",
    "    print(\"Se rechaza la hipótesis nula: hay una diferencia significativa entre los grupos.\")\n",
    "else:\n",
    "    print(\"No se rechaza la hipótesis nula: no hay una diferencia significativa entre los grupos.\")"
   ]
  },
  {
   "cell_type": "markdown",
   "id": "8f0fa3b2",
   "metadata": {},
   "source": [
    "Se realizó una prueba Z para verificar si había una diferencia significativa entre ambas muestras de recomendación del grupo A y del grupo B, pero no se pudo rechazar ya aunque los datos en la muestra del grupo b son menores, no se encontro una diferencia significativa entre los grupos."
   ]
  },
  {
   "cell_type": "markdown",
   "id": "0102aa65",
   "metadata": {},
   "source": [
    "En base a los resultados obtenidos en este análisis no se recomienda continuar con el sistema de recommender_system_test, ya que como estaban anteriormente los embudos tenían mejor conversión entre las etapas."
   ]
  }
 ],
 "metadata": {
  "kernelspec": {
   "display_name": "base",
   "language": "python",
   "name": "python3"
  },
  "language_info": {
   "codemirror_mode": {
    "name": "ipython",
    "version": 3
   },
   "file_extension": ".py",
   "mimetype": "text/x-python",
   "name": "python",
   "nbconvert_exporter": "python",
   "pygments_lexer": "ipython3",
   "version": "3.12.4"
  }
 },
 "nbformat": 4,
 "nbformat_minor": 5
}
